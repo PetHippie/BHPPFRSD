{
  "nbformat": 4,
  "nbformat_minor": 0,
  "metadata": {
    "colab": {
      "name": "BHPP.ipynb",
      "version": "0.3.2",
      "views": {},
      "default_view": {},
      "provenance": [],
      "collapsed_sections": [],
      "toc_visible": true
    },
    "kernelspec": {
      "name": "python3",
      "display_name": "Python 3"
    },
    "accelerator": "GPU"
  },
  "cells": [
    {
      "metadata": {
        "id": "29raWEfLRnSM",
        "colab_type": "code",
        "colab": {
          "autoexec": {
            "startup": false,
            "wait_interval": 0
          },
          "resources": {
            "http://localhost:8080/nbextensions/google.colab/files.js": {
              "data": "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",
              "ok": true,
              "headers": [
                [
                  "content-type",
                  "application/javascript"
                ]
              ],
              "status": 200,
              "status_text": ""
            }
          },
          "base_uri": "https://localhost:8080/",
          "height": 208
        },
        "outputId": "3972c5dc-af5b-4f9b-ac98-27348a23e519",
        "executionInfo": {
          "status": "ok",
          "timestamp": 1526820439468,
          "user_tz": -330,
          "elapsed": 35681,
          "user": {
            "displayName": "Dwaipayan Kundu",
            "photoUrl": "https://lh3.googleusercontent.com/a/default-user=s128",
            "userId": "102686349398832372219"
          }
        }
      },
      "cell_type": "code",
      "source": [
        "from google.colab import files\n",
        "\n",
        "uploaded = files.upload()\n",
        "\n",
        "for fn in uploaded.keys():\n",
        "       print('User uploaded file \"{name}\" with length {length} bytes'.format(name=fn, length=len(uploaded[fn])))"
      ],
      "execution_count": 1,
      "outputs": [
        {
          "output_type": "display_data",
          "data": {
            "text/html": [
              "\n",
              "     <input type=\"file\" id=\"files-5717529f-dca5-4135-a31b-1fde5f503e50\" name=\"files[]\" multiple disabled />\n",
              "     <output id=\"result-5717529f-dca5-4135-a31b-1fde5f503e50\">\n",
              "      Upload widget is only available when the cell has been executed in the\n",
              "      current browser session. Please rerun this cell to enable.\n",
              "      </output>\n",
              "      <script src=\"/nbextensions/google.colab/files.js\"></script> "
            ],
            "text/plain": [
              "<IPython.core.display.HTML object>"
            ]
          },
          "metadata": {
            "tags": []
          }
        },
        {
          "output_type": "stream",
          "text": [
            "Saving bhppTrainData.csv to bhppTrainData.csv\n",
            "Saving gecode_test.csv to gecode_test.csv\n",
            "Saving Geocode.csv to Geocode.csv\n",
            "User uploaded file \"bhppTrainData.csv\" with length 989161 bytes\n",
            "User uploaded file \"gecode_test.csv\" with length 18188 bytes\n",
            "User uploaded file \"Geocode.csv\" with length 64157 bytes\n"
          ],
          "name": "stdout"
        }
      ]
    },
    {
      "metadata": {
        "id": "8H4gJF_ls5RP",
        "colab_type": "code",
        "colab": {
          "autoexec": {
            "startup": false,
            "wait_interval": 0
          }
        }
      },
      "cell_type": "code",
      "source": [
        "!pip install cmake"
      ],
      "execution_count": 0,
      "outputs": []
    },
    {
      "metadata": {
        "id": "MjM7-7BSiFtw",
        "colab_type": "code",
        "colab": {
          "autoexec": {
            "startup": false,
            "wait_interval": 0
          }
        }
      },
      "cell_type": "code",
      "source": [
        "!pip install fancyimpute"
      ],
      "execution_count": 0,
      "outputs": []
    },
    {
      "metadata": {
        "id": "u7KuP2MEAEdQ",
        "colab_type": "code",
        "colab": {
          "autoexec": {
            "startup": false,
            "wait_interval": 0
          }
        }
      },
      "cell_type": "code",
      "source": [
        "!pip install geopy"
      ],
      "execution_count": 0,
      "outputs": []
    },
    {
      "metadata": {
        "id": "lhOZQ6v4WZXC",
        "colab_type": "code",
        "colab": {
          "autoexec": {
            "startup": false,
            "wait_interval": 0
          }
        }
      },
      "cell_type": "code",
      "source": [
        "import pandas as pd\n",
        "pd.options.display.max_rows = 25000\n",
        "\n",
        "import numpy as np\n",
        "np.set_printoptions(threshold=np.inf)\n",
        "\n",
        "import matplotlib.pyplot as plt\n",
        "import seaborn as sns"
      ],
      "execution_count": 0,
      "outputs": []
    },
    {
      "metadata": {
        "id": "nqAvmNTnWZbC",
        "colab_type": "code",
        "colab": {
          "autoexec": {
            "startup": false,
            "wait_interval": 0
          }
        }
      },
      "cell_type": "code",
      "source": [
        "df = pd.read_csv(\"bhppTrainData.csv\")\n",
        "df.drop(df.loc[:, 'Unnamed: 9':'Unnamed: 13'], axis = 1, inplace = True)"
      ],
      "execution_count": 0,
      "outputs": []
    },
    {
      "metadata": {
        "id": "RPhowMULo6On",
        "colab_type": "code",
        "colab": {
          "autoexec": {
            "startup": false,
            "wait_interval": 0
          }
        }
      },
      "cell_type": "code",
      "source": [
        "geocode = pd.read_csv(\"Geocode.csv\")"
      ],
      "execution_count": 0,
      "outputs": []
    },
    {
      "metadata": {
        "id": "-vBa-vQr0KAQ",
        "colab_type": "code",
        "colab": {
          "autoexec": {
            "startup": false,
            "wait_interval": 0
          },
          "base_uri": "https://localhost:8080/",
          "height": 34
        },
        "outputId": "6512b939-8e3c-4a25-e4fe-6a0e198aa9e7",
        "executionInfo": {
          "status": "ok",
          "timestamp": 1526820890724,
          "user_tz": -330,
          "elapsed": 759,
          "user": {
            "displayName": "Dwaipayan Kundu",
            "photoUrl": "https://lh3.googleusercontent.com/a/default-user=s128",
            "userId": "102686349398832372219"
          }
        }
      },
      "cell_type": "code",
      "source": [
        "print(df.shape)"
      ],
      "execution_count": 8,
      "outputs": [
        {
          "output_type": "stream",
          "text": [
            "(13314, 9)\n"
          ],
          "name": "stdout"
        }
      ]
    },
    {
      "metadata": {
        "id": "yeeEa4vsWZeQ",
        "colab_type": "code",
        "colab": {
          "autoexec": {
            "startup": false,
            "wait_interval": 0
          },
          "base_uri": "https://localhost:8080/",
          "height": 272
        },
        "outputId": "c9bebf4f-3cfb-42f2-e08a-7d77fbbd35a6",
        "executionInfo": {
          "status": "ok",
          "timestamp": 1526820893299,
          "user_tz": -330,
          "elapsed": 1056,
          "user": {
            "displayName": "Dwaipayan Kundu",
            "photoUrl": "https://lh3.googleusercontent.com/a/default-user=s128",
            "userId": "102686349398832372219"
          }
        }
      },
      "cell_type": "code",
      "source": [
        "df.head()"
      ],
      "execution_count": 9,
      "outputs": [
        {
          "output_type": "execute_result",
          "data": {
            "text/html": [
              "<div>\n",
              "<style scoped>\n",
              "    .dataframe tbody tr th:only-of-type {\n",
              "        vertical-align: middle;\n",
              "    }\n",
              "\n",
              "    .dataframe tbody tr th {\n",
              "        vertical-align: top;\n",
              "    }\n",
              "\n",
              "    .dataframe thead th {\n",
              "        text-align: right;\n",
              "    }\n",
              "</style>\n",
              "<table border=\"1\" class=\"dataframe\">\n",
              "  <thead>\n",
              "    <tr style=\"text-align: right;\">\n",
              "      <th></th>\n",
              "      <th>area_type</th>\n",
              "      <th>availability</th>\n",
              "      <th>location</th>\n",
              "      <th>size</th>\n",
              "      <th>society</th>\n",
              "      <th>total_sqft</th>\n",
              "      <th>bath</th>\n",
              "      <th>balcony</th>\n",
              "      <th>price</th>\n",
              "    </tr>\n",
              "  </thead>\n",
              "  <tbody>\n",
              "    <tr>\n",
              "      <th>0</th>\n",
              "      <td>Super built-up  Area</td>\n",
              "      <td>19-Dec</td>\n",
              "      <td>Electronic City Phase II</td>\n",
              "      <td>2 BHK</td>\n",
              "      <td>Coomee</td>\n",
              "      <td>1056.0</td>\n",
              "      <td>2.0</td>\n",
              "      <td>1.0</td>\n",
              "      <td>39.07</td>\n",
              "    </tr>\n",
              "    <tr>\n",
              "      <th>1</th>\n",
              "      <td>Plot  Area</td>\n",
              "      <td>Ready To Move</td>\n",
              "      <td>Chikka Tirupathi</td>\n",
              "      <td>4 Bedroom</td>\n",
              "      <td>Theanmp</td>\n",
              "      <td>2600.0</td>\n",
              "      <td>5.0</td>\n",
              "      <td>3.0</td>\n",
              "      <td>120.00</td>\n",
              "    </tr>\n",
              "    <tr>\n",
              "      <th>2</th>\n",
              "      <td>Built-up  Area</td>\n",
              "      <td>Ready To Move</td>\n",
              "      <td>Uttarahalli</td>\n",
              "      <td>3 BHK</td>\n",
              "      <td>NaN</td>\n",
              "      <td>1440.0</td>\n",
              "      <td>2.0</td>\n",
              "      <td>3.0</td>\n",
              "      <td>62.00</td>\n",
              "    </tr>\n",
              "    <tr>\n",
              "      <th>3</th>\n",
              "      <td>Super built-up  Area</td>\n",
              "      <td>Ready To Move</td>\n",
              "      <td>Lingadheeranahalli</td>\n",
              "      <td>3 BHK</td>\n",
              "      <td>Soiewre</td>\n",
              "      <td>1521.0</td>\n",
              "      <td>3.0</td>\n",
              "      <td>1.0</td>\n",
              "      <td>95.00</td>\n",
              "    </tr>\n",
              "    <tr>\n",
              "      <th>4</th>\n",
              "      <td>Super built-up  Area</td>\n",
              "      <td>Ready To Move</td>\n",
              "      <td>Kothanur</td>\n",
              "      <td>2 BHK</td>\n",
              "      <td>NaN</td>\n",
              "      <td>1200.0</td>\n",
              "      <td>2.0</td>\n",
              "      <td>1.0</td>\n",
              "      <td>51.00</td>\n",
              "    </tr>\n",
              "  </tbody>\n",
              "</table>\n",
              "</div>"
            ],
            "text/plain": [
              "              area_type   availability                  location       size  \\\n",
              "0  Super built-up  Area         19-Dec  Electronic City Phase II      2 BHK   \n",
              "1            Plot  Area  Ready To Move          Chikka Tirupathi  4 Bedroom   \n",
              "2        Built-up  Area  Ready To Move               Uttarahalli      3 BHK   \n",
              "3  Super built-up  Area  Ready To Move        Lingadheeranahalli      3 BHK   \n",
              "4  Super built-up  Area  Ready To Move                  Kothanur      2 BHK   \n",
              "\n",
              "   society  total_sqft  bath  balcony   price  \n",
              "0  Coomee       1056.0   2.0      1.0   39.07  \n",
              "1  Theanmp      2600.0   5.0      3.0  120.00  \n",
              "2      NaN      1440.0   2.0      3.0   62.00  \n",
              "3  Soiewre      1521.0   3.0      1.0   95.00  \n",
              "4      NaN      1200.0   2.0      1.0   51.00  "
            ]
          },
          "metadata": {
            "tags": []
          },
          "execution_count": 9
        }
      ]
    },
    {
      "metadata": {
        "id": "dg-LZlSlgH_W",
        "colab_type": "text"
      },
      "cell_type": "markdown",
      "source": [
        "# Missing Value Imputation & Data Preprocessing"
      ]
    },
    {
      "metadata": {
        "id": "lh--yED31KsK",
        "colab_type": "code",
        "colab": {
          "autoexec": {
            "startup": false,
            "wait_interval": 0
          }
        }
      },
      "cell_type": "code",
      "source": [
        "from sklearn.preprocessing import LabelEncoder\n",
        "le = LabelEncoder()"
      ],
      "execution_count": 0,
      "outputs": []
    },
    {
      "metadata": {
        "id": "f8NSzUSEYy3G",
        "colab_type": "code",
        "colab": {
          "autoexec": {
            "startup": false,
            "wait_interval": 0
          },
          "base_uri": "https://localhost:8080/",
          "height": 187
        },
        "outputId": "ac268e2c-0e50-4212-924d-66cfc5ee98d0",
        "executionInfo": {
          "status": "ok",
          "timestamp": 1526820900827,
          "user_tz": -330,
          "elapsed": 967,
          "user": {
            "displayName": "Dwaipayan Kundu",
            "photoUrl": "https://lh3.googleusercontent.com/a/default-user=s128",
            "userId": "102686349398832372219"
          }
        }
      },
      "cell_type": "code",
      "source": [
        "df.isnull().sum()"
      ],
      "execution_count": 11,
      "outputs": [
        {
          "output_type": "execute_result",
          "data": {
            "text/plain": [
              "area_type          0\n",
              "availability       0\n",
              "location           0\n",
              "size              16\n",
              "society         5497\n",
              "total_sqft         0\n",
              "bath              73\n",
              "balcony          609\n",
              "price              0\n",
              "dtype: int64"
            ]
          },
          "metadata": {
            "tags": []
          },
          "execution_count": 11
        }
      ]
    },
    {
      "metadata": {
        "id": "oCg_pei0tUVS",
        "colab_type": "code",
        "colab": {
          "autoexec": {
            "startup": false,
            "wait_interval": 0
          }
        }
      },
      "cell_type": "code",
      "source": [
        "loc = df['location']\n",
        "col = df.drop(['location'], axis = 1).columns"
      ],
      "execution_count": 0,
      "outputs": []
    },
    {
      "metadata": {
        "id": "SIM8DSuDYy6s",
        "colab_type": "code",
        "colab": {
          "autoexec": {
            "startup": false,
            "wait_interval": 0
          }
        }
      },
      "cell_type": "code",
      "source": [
        "df['society'] = df['society'].apply(lambda x: 0 if pd.isnull(x) else 1)\n",
        "df['society'] = df['society'].apply(lambda x: int(x))\n"
      ],
      "execution_count": 0,
      "outputs": []
    },
    {
      "metadata": {
        "id": "BvNUKfiKYyyS",
        "colab_type": "code",
        "colab": {
          "autoexec": {
            "startup": false,
            "wait_interval": 0
          }
        }
      },
      "cell_type": "code",
      "source": [
        "df['size'] = df['size'].fillna('0')\n",
        "df['size'] = df['size'].apply(lambda x: str(x))\n",
        "df['size'] = df['size'].apply(lambda x : x[0:2])\n",
        "df['size'] = df['size'].apply(lambda x : 0 if x == '0' or int(x) > 9 else x)\n",
        "df['size'] = df['size'].apply(lambda x : int(x))"
      ],
      "execution_count": 0,
      "outputs": []
    },
    {
      "metadata": {
        "id": "fg5T28DAcOmj",
        "colab_type": "code",
        "colab": {
          "autoexec": {
            "startup": false,
            "wait_interval": 0
          },
          "base_uri": "https://localhost:8080/",
          "height": 255
        },
        "outputId": "660d5bf8-206d-45e0-c519-4ad663a38274",
        "executionInfo": {
          "status": "ok",
          "timestamp": 1526820934544,
          "user_tz": -330,
          "elapsed": 985,
          "user": {
            "displayName": "Dwaipayan Kundu",
            "photoUrl": "https://lh3.googleusercontent.com/a/default-user=s128",
            "userId": "102686349398832372219"
          }
        }
      },
      "cell_type": "code",
      "source": [
        "df['availability'].unique()"
      ],
      "execution_count": 16,
      "outputs": [
        {
          "output_type": "execute_result",
          "data": {
            "text/plain": [
              "array(['19-Dec', 'Ready To Move', '18-May', '18-Feb', '18-Nov', '20-Dec',\n",
              "       '17-Oct', '21-Dec', '19-Sep', '20-Sep', '18-Mar', '20-Feb',\n",
              "       '18-Apr', '20-Aug', '18-Oct', '19-Mar', '17-Sep', '18-Dec',\n",
              "       '17-Aug', '19-Apr', '18-Jun', '22-Dec', '22-Jan', '18-Aug',\n",
              "       '19-Jan', '17-Jul', '18-Jul', '21-Jun', '20-May', '19-Aug',\n",
              "       '18-Sep', '17-May', '17-Jun', '21-May', '18-Jan', '20-Mar',\n",
              "       '17-Dec', '16-Mar', '19-Jun', '22-Jun', '19-Jul', '21-Feb',\n",
              "       'Immediate Possession', '19-May', '17-Nov', '20-Oct', '20-Jun',\n",
              "       '19-Feb', '21-Oct', '21-Jan', '17-Mar', '17-Apr', '22-May',\n",
              "       '19-Oct', '21-Jul', '21-Nov', '21-Mar', '16-Dec', '22-Mar',\n",
              "       '20-Jan', '21-Sep', '21-Aug', '14-Nov', '19-Nov', '15-Nov',\n",
              "       '16-Jul', '15-Jun', '17-Feb', '20-Nov', '20-Jul', '16-Sep',\n",
              "       '15-Oct', '15-Dec', '16-Oct', '22-Nov', '15-Aug', '17-Jan',\n",
              "       '16-Nov', '20-Apr', '16-Jan', '14-Jul'], dtype=object)"
            ]
          },
          "metadata": {
            "tags": []
          },
          "execution_count": 16
        }
      ]
    },
    {
      "metadata": {
        "id": "03hz68_4pppy",
        "colab_type": "code",
        "colab": {
          "autoexec": {
            "startup": false,
            "wait_interval": 0
          }
        }
      },
      "cell_type": "code",
      "source": [
        "df['availability'] = le.fit_transform(df['availability'])"
      ],
      "execution_count": 0,
      "outputs": []
    },
    {
      "metadata": {
        "id": "niwK9s_r2Lkw",
        "colab_type": "code",
        "colab": {
          "autoexec": {
            "startup": false,
            "wait_interval": 0
          }
        }
      },
      "cell_type": "code",
      "source": [
        "df['area_type'] = le.fit_transform(df['area_type'])"
      ],
      "execution_count": 0,
      "outputs": []
    },
    {
      "metadata": {
        "id": "uFPeHhUjppBT",
        "colab_type": "code",
        "colab": {
          "autoexec": {
            "startup": false,
            "wait_interval": 0
          }
        }
      },
      "cell_type": "code",
      "source": [
        "df = pd.DataFrame(df)"
      ],
      "execution_count": 0,
      "outputs": []
    },
    {
      "metadata": {
        "id": "oPvk_vXu4Nk6",
        "colab_type": "code",
        "colab": {
          "autoexec": {
            "startup": false,
            "wait_interval": 0
          },
          "base_uri": "https://localhost:8080/",
          "height": 204
        },
        "outputId": "38a8fe7d-93e6-4423-ae1d-8d0774c1cdc7",
        "executionInfo": {
          "status": "ok",
          "timestamp": 1526821489553,
          "user_tz": -330,
          "elapsed": 974,
          "user": {
            "displayName": "Dwaipayan Kundu",
            "photoUrl": "https://lh3.googleusercontent.com/a/default-user=s128",
            "userId": "102686349398832372219"
          }
        }
      },
      "cell_type": "code",
      "source": [
        "df.head()"
      ],
      "execution_count": 26,
      "outputs": [
        {
          "output_type": "execute_result",
          "data": {
            "text/html": [
              "<div>\n",
              "<style scoped>\n",
              "    .dataframe tbody tr th:only-of-type {\n",
              "        vertical-align: middle;\n",
              "    }\n",
              "\n",
              "    .dataframe tbody tr th {\n",
              "        vertical-align: top;\n",
              "    }\n",
              "\n",
              "    .dataframe thead th {\n",
              "        text-align: right;\n",
              "    }\n",
              "</style>\n",
              "<table border=\"1\" class=\"dataframe\">\n",
              "  <thead>\n",
              "    <tr style=\"text-align: right;\">\n",
              "      <th></th>\n",
              "      <th>area_type</th>\n",
              "      <th>availability</th>\n",
              "      <th>location</th>\n",
              "      <th>size</th>\n",
              "      <th>society</th>\n",
              "      <th>total_sqft</th>\n",
              "      <th>bath</th>\n",
              "      <th>balcony</th>\n",
              "      <th>price</th>\n",
              "    </tr>\n",
              "  </thead>\n",
              "  <tbody>\n",
              "    <tr>\n",
              "      <th>0</th>\n",
              "      <td>3</td>\n",
              "      <td>40</td>\n",
              "      <td>Electronic City Phase II</td>\n",
              "      <td>2</td>\n",
              "      <td>1</td>\n",
              "      <td>1056.0</td>\n",
              "      <td>2.0</td>\n",
              "      <td>1.0</td>\n",
              "      <td>39.07</td>\n",
              "    </tr>\n",
              "    <tr>\n",
              "      <th>1</th>\n",
              "      <td>2</td>\n",
              "      <td>80</td>\n",
              "      <td>Chikka Tirupathi</td>\n",
              "      <td>4</td>\n",
              "      <td>1</td>\n",
              "      <td>2600.0</td>\n",
              "      <td>5.0</td>\n",
              "      <td>3.0</td>\n",
              "      <td>120.00</td>\n",
              "    </tr>\n",
              "    <tr>\n",
              "      <th>2</th>\n",
              "      <td>0</td>\n",
              "      <td>80</td>\n",
              "      <td>Uttarahalli</td>\n",
              "      <td>3</td>\n",
              "      <td>0</td>\n",
              "      <td>1440.0</td>\n",
              "      <td>2.0</td>\n",
              "      <td>3.0</td>\n",
              "      <td>62.00</td>\n",
              "    </tr>\n",
              "    <tr>\n",
              "      <th>3</th>\n",
              "      <td>3</td>\n",
              "      <td>80</td>\n",
              "      <td>Lingadheeranahalli</td>\n",
              "      <td>3</td>\n",
              "      <td>1</td>\n",
              "      <td>1521.0</td>\n",
              "      <td>3.0</td>\n",
              "      <td>1.0</td>\n",
              "      <td>95.00</td>\n",
              "    </tr>\n",
              "    <tr>\n",
              "      <th>4</th>\n",
              "      <td>3</td>\n",
              "      <td>80</td>\n",
              "      <td>Kothanur</td>\n",
              "      <td>2</td>\n",
              "      <td>0</td>\n",
              "      <td>1200.0</td>\n",
              "      <td>2.0</td>\n",
              "      <td>1.0</td>\n",
              "      <td>51.00</td>\n",
              "    </tr>\n",
              "  </tbody>\n",
              "</table>\n",
              "</div>"
            ],
            "text/plain": [
              "   area_type  availability                  location  size  society  \\\n",
              "0          3            40  Electronic City Phase II     2        1   \n",
              "1          2            80          Chikka Tirupathi     4        1   \n",
              "2          0            80               Uttarahalli     3        0   \n",
              "3          3            80        Lingadheeranahalli     3        1   \n",
              "4          3            80                  Kothanur     2        0   \n",
              "\n",
              "   total_sqft  bath  balcony   price  \n",
              "0      1056.0   2.0      1.0   39.07  \n",
              "1      2600.0   5.0      3.0  120.00  \n",
              "2      1440.0   2.0      3.0   62.00  \n",
              "3      1521.0   3.0      1.0   95.00  \n",
              "4      1200.0   2.0      1.0   51.00  "
            ]
          },
          "metadata": {
            "tags": []
          },
          "execution_count": 26
        }
      ]
    },
    {
      "metadata": {
        "id": "iwZeljn_gFwC",
        "colab_type": "code",
        "colab": {
          "autoexec": {
            "startup": false,
            "wait_interval": 0
          },
          "base_uri": "https://localhost:8080/",
          "height": 34
        },
        "outputId": "e3c9f6ec-d67c-4828-999d-66b4c33bfcdc",
        "executionInfo": {
          "status": "ok",
          "timestamp": 1526820992718,
          "user_tz": -330,
          "elapsed": 10192,
          "user": {
            "displayName": "Dwaipayan Kundu",
            "photoUrl": "https://lh3.googleusercontent.com/a/default-user=s128",
            "userId": "102686349398832372219"
          }
        }
      },
      "cell_type": "code",
      "source": [
        "from fancyimpute import MICE"
      ],
      "execution_count": 21,
      "outputs": [
        {
          "output_type": "stream",
          "text": [
            "Using TensorFlow backend.\n"
          ],
          "name": "stderr"
        }
      ]
    },
    {
      "metadata": {
        "id": "OWeAs7Wxg1n4",
        "colab_type": "code",
        "colab": {
          "autoexec": {
            "startup": false,
            "wait_interval": 0
          }
        }
      },
      "cell_type": "code",
      "source": [
        "m = MICE(verbose=False)\n",
        "\n",
        "df = m.complete(df.drop(['location'], axis = 1))"
      ],
      "execution_count": 0,
      "outputs": []
    },
    {
      "metadata": {
        "id": "tj0CQJbqtjX9",
        "colab_type": "code",
        "colab": {
          "autoexec": {
            "startup": false,
            "wait_interval": 0
          }
        }
      },
      "cell_type": "code",
      "source": [
        "df = pd.DataFrame(df)\n",
        "df.columns = col"
      ],
      "execution_count": 0,
      "outputs": []
    },
    {
      "metadata": {
        "id": "KMvWMd2Xg1eG",
        "colab_type": "code",
        "colab": {
          "autoexec": {
            "startup": false,
            "wait_interval": 0
          }
        }
      },
      "cell_type": "code",
      "source": [
        "df['bath'] = df['bath'].apply(lambda x: round(x))\n",
        "df['balcony'] = df['balcony'].apply(lambda x: round(x))"
      ],
      "execution_count": 0,
      "outputs": []
    },
    {
      "metadata": {
        "id": "f12PdElQ4hn8",
        "colab_type": "code",
        "colab": {
          "autoexec": {
            "startup": false,
            "wait_interval": 0
          },
          "base_uri": "https://localhost:8080/",
          "height": 204
        },
        "outputId": "f36796b6-24fa-4ebb-e392-e5b9fb4f9ac3",
        "executionInfo": {
          "status": "ok",
          "timestamp": 1526821517717,
          "user_tz": -330,
          "elapsed": 977,
          "user": {
            "displayName": "Dwaipayan Kundu",
            "photoUrl": "https://lh3.googleusercontent.com/a/default-user=s128",
            "userId": "102686349398832372219"
          }
        }
      },
      "cell_type": "code",
      "source": [
        "df.head()"
      ],
      "execution_count": 31,
      "outputs": [
        {
          "output_type": "execute_result",
          "data": {
            "text/html": [
              "<div>\n",
              "<style scoped>\n",
              "    .dataframe tbody tr th:only-of-type {\n",
              "        vertical-align: middle;\n",
              "    }\n",
              "\n",
              "    .dataframe tbody tr th {\n",
              "        vertical-align: top;\n",
              "    }\n",
              "\n",
              "    .dataframe thead th {\n",
              "        text-align: right;\n",
              "    }\n",
              "</style>\n",
              "<table border=\"1\" class=\"dataframe\">\n",
              "  <thead>\n",
              "    <tr style=\"text-align: right;\">\n",
              "      <th></th>\n",
              "      <th>area_type</th>\n",
              "      <th>availability</th>\n",
              "      <th>size</th>\n",
              "      <th>society</th>\n",
              "      <th>total_sqft</th>\n",
              "      <th>bath</th>\n",
              "      <th>balcony</th>\n",
              "      <th>price</th>\n",
              "    </tr>\n",
              "  </thead>\n",
              "  <tbody>\n",
              "    <tr>\n",
              "      <th>0</th>\n",
              "      <td>3.0</td>\n",
              "      <td>40.0</td>\n",
              "      <td>2.0</td>\n",
              "      <td>1.0</td>\n",
              "      <td>1056.0</td>\n",
              "      <td>2</td>\n",
              "      <td>1</td>\n",
              "      <td>39.07</td>\n",
              "    </tr>\n",
              "    <tr>\n",
              "      <th>1</th>\n",
              "      <td>2.0</td>\n",
              "      <td>80.0</td>\n",
              "      <td>4.0</td>\n",
              "      <td>1.0</td>\n",
              "      <td>2600.0</td>\n",
              "      <td>5</td>\n",
              "      <td>3</td>\n",
              "      <td>120.00</td>\n",
              "    </tr>\n",
              "    <tr>\n",
              "      <th>2</th>\n",
              "      <td>0.0</td>\n",
              "      <td>80.0</td>\n",
              "      <td>3.0</td>\n",
              "      <td>0.0</td>\n",
              "      <td>1440.0</td>\n",
              "      <td>2</td>\n",
              "      <td>3</td>\n",
              "      <td>62.00</td>\n",
              "    </tr>\n",
              "    <tr>\n",
              "      <th>3</th>\n",
              "      <td>3.0</td>\n",
              "      <td>80.0</td>\n",
              "      <td>3.0</td>\n",
              "      <td>1.0</td>\n",
              "      <td>1521.0</td>\n",
              "      <td>3</td>\n",
              "      <td>1</td>\n",
              "      <td>95.00</td>\n",
              "    </tr>\n",
              "    <tr>\n",
              "      <th>4</th>\n",
              "      <td>3.0</td>\n",
              "      <td>80.0</td>\n",
              "      <td>2.0</td>\n",
              "      <td>0.0</td>\n",
              "      <td>1200.0</td>\n",
              "      <td>2</td>\n",
              "      <td>1</td>\n",
              "      <td>51.00</td>\n",
              "    </tr>\n",
              "  </tbody>\n",
              "</table>\n",
              "</div>"
            ],
            "text/plain": [
              "   area_type  availability  size  society  total_sqft  bath  balcony   price\n",
              "0        3.0          40.0   2.0      1.0      1056.0     2        1   39.07\n",
              "1        2.0          80.0   4.0      1.0      2600.0     5        3  120.00\n",
              "2        0.0          80.0   3.0      0.0      1440.0     2        3   62.00\n",
              "3        3.0          80.0   3.0      1.0      1521.0     3        1   95.00\n",
              "4        3.0          80.0   2.0      0.0      1200.0     2        1   51.00"
            ]
          },
          "metadata": {
            "tags": []
          },
          "execution_count": 31
        }
      ]
    },
    {
      "metadata": {
        "id": "EKx5117Guavx",
        "colab_type": "text"
      },
      "cell_type": "markdown",
      "source": [
        "# Application of Geocoding and Feature Engineering"
      ]
    },
    {
      "metadata": {
        "id": "usBra8PiWZ1m",
        "colab_type": "code",
        "colab": {
          "autoexec": {
            "startup": false,
            "wait_interval": 0
          }
        }
      },
      "cell_type": "code",
      "source": [
        "df = pd.concat([df, loc], axis = 1)"
      ],
      "execution_count": 0,
      "outputs": []
    },
    {
      "metadata": {
        "id": "UgAelJ5LuVrM",
        "colab_type": "code",
        "colab": {
          "autoexec": {
            "startup": false,
            "wait_interval": 0
          }
        }
      },
      "cell_type": "code",
      "source": [
        "geocode.columns = ['location', 'Lat', 'Long']\n",
        "geocode['location'] = geocode['location'].apply(lambda x: x.strip())"
      ],
      "execution_count": 0,
      "outputs": []
    },
    {
      "metadata": {
        "id": "iPIu-UML63Mz",
        "colab_type": "code",
        "colab": {
          "autoexec": {
            "startup": false,
            "wait_interval": 0
          },
          "base_uri": "https://localhost:8080/",
          "height": 204
        },
        "outputId": "694e7938-386d-4d29-94c5-0424db8261cc",
        "executionInfo": {
          "status": "ok",
          "timestamp": 1526821847851,
          "user_tz": -330,
          "elapsed": 968,
          "user": {
            "displayName": "Dwaipayan Kundu",
            "photoUrl": "https://lh3.googleusercontent.com/a/default-user=s128",
            "userId": "102686349398832372219"
          }
        }
      },
      "cell_type": "code",
      "source": [
        "geocode.head()"
      ],
      "execution_count": 36,
      "outputs": [
        {
          "output_type": "execute_result",
          "data": {
            "text/html": [
              "<div>\n",
              "<style scoped>\n",
              "    .dataframe tbody tr th:only-of-type {\n",
              "        vertical-align: middle;\n",
              "    }\n",
              "\n",
              "    .dataframe tbody tr th {\n",
              "        vertical-align: top;\n",
              "    }\n",
              "\n",
              "    .dataframe thead th {\n",
              "        text-align: right;\n",
              "    }\n",
              "</style>\n",
              "<table border=\"1\" class=\"dataframe\">\n",
              "  <thead>\n",
              "    <tr style=\"text-align: right;\">\n",
              "      <th></th>\n",
              "      <th>location</th>\n",
              "      <th>Lat</th>\n",
              "      <th>Long</th>\n",
              "    </tr>\n",
              "  </thead>\n",
              "  <tbody>\n",
              "    <tr>\n",
              "      <th>0</th>\n",
              "      <td>Electronic City Phase II , Bangalore</td>\n",
              "      <td>12.844149</td>\n",
              "      <td>77.679381</td>\n",
              "    </tr>\n",
              "    <tr>\n",
              "      <th>1</th>\n",
              "      <td>Chikka Tirupathi , Bangalore</td>\n",
              "      <td>12.896746</td>\n",
              "      <td>77.866742</td>\n",
              "    </tr>\n",
              "    <tr>\n",
              "      <th>2</th>\n",
              "      <td>Uttarahalli , Bangalore</td>\n",
              "      <td>12.906982</td>\n",
              "      <td>77.552059</td>\n",
              "    </tr>\n",
              "    <tr>\n",
              "      <th>3</th>\n",
              "      <td>Lingadheeranahalli , Bangalore</td>\n",
              "      <td>12.882485</td>\n",
              "      <td>77.536146</td>\n",
              "    </tr>\n",
              "    <tr>\n",
              "      <th>4</th>\n",
              "      <td>Kothanur , Bangalore</td>\n",
              "      <td>13.055196</td>\n",
              "      <td>77.642221</td>\n",
              "    </tr>\n",
              "  </tbody>\n",
              "</table>\n",
              "</div>"
            ],
            "text/plain": [
              "                               location        Lat       Long\n",
              "0  Electronic City Phase II , Bangalore  12.844149  77.679381\n",
              "1          Chikka Tirupathi , Bangalore  12.896746  77.866742\n",
              "2               Uttarahalli , Bangalore  12.906982  77.552059\n",
              "3        Lingadheeranahalli , Bangalore  12.882485  77.536146\n",
              "4                  Kothanur , Bangalore  13.055196  77.642221"
            ]
          },
          "metadata": {
            "tags": []
          },
          "execution_count": 36
        }
      ]
    },
    {
      "metadata": {
        "id": "yrKvia1tv1lE",
        "colab_type": "code",
        "colab": {
          "autoexec": {
            "startup": false,
            "wait_interval": 0
          }
        }
      },
      "cell_type": "code",
      "source": [
        "df['location'] = df['location'].apply(lambda x: x+' , Bangalore')\n",
        "\n",
        "df['location'] = df['location'].apply(lambda x: x.strip())\n"
      ],
      "execution_count": 0,
      "outputs": []
    },
    {
      "metadata": {
        "id": "TkTkIN7B2lrZ",
        "colab_type": "code",
        "colab": {
          "autoexec": {
            "startup": false,
            "wait_interval": 0
          }
        }
      },
      "cell_type": "code",
      "source": [
        "df.set_index('location', inplace = True)\n",
        "geocode.set_index('location', inplace = True)"
      ],
      "execution_count": 0,
      "outputs": []
    },
    {
      "metadata": {
        "id": "PXuqJwQu49vH",
        "colab_type": "code",
        "colab": {
          "autoexec": {
            "startup": false,
            "wait_interval": 0
          }
        }
      },
      "cell_type": "code",
      "source": [
        "DF = df.join(geocode, lsuffix='_caller', how = 'left')"
      ],
      "execution_count": 0,
      "outputs": []
    },
    {
      "metadata": {
        "id": "pwNIbZPQ9mKJ",
        "colab_type": "code",
        "colab": {
          "autoexec": {
            "startup": false,
            "wait_interval": 0
          },
          "base_uri": "https://localhost:8080/",
          "height": 34
        },
        "outputId": "bbb20f58-3381-4162-cdaa-f59668900989",
        "executionInfo": {
          "status": "ok",
          "timestamp": 1526822017054,
          "user_tz": -330,
          "elapsed": 957,
          "user": {
            "displayName": "Dwaipayan Kundu",
            "photoUrl": "https://lh3.googleusercontent.com/a/default-user=s128",
            "userId": "102686349398832372219"
          }
        }
      },
      "cell_type": "code",
      "source": [
        "DF.shape"
      ],
      "execution_count": 48,
      "outputs": [
        {
          "output_type": "execute_result",
          "data": {
            "text/plain": [
              "(14624, 10)"
            ]
          },
          "metadata": {
            "tags": []
          },
          "execution_count": 48
        }
      ]
    },
    {
      "metadata": {
        "id": "oxyj0j9B49zK",
        "colab_type": "code",
        "colab": {
          "autoexec": {
            "startup": false,
            "wait_interval": 0
          }
        }
      },
      "cell_type": "code",
      "source": [
        "DF = DF.dropna()\n",
        "DF.drop_duplicates(inplace = True)"
      ],
      "execution_count": 0,
      "outputs": []
    },
    {
      "metadata": {
        "id": "Rxh0vOco49gr",
        "colab_type": "code",
        "colab": {
          "autoexec": {
            "startup": false,
            "wait_interval": 0
          }
        }
      },
      "cell_type": "code",
      "source": [
        "DF.reset_index(drop = True, inplace = True)"
      ],
      "execution_count": 0,
      "outputs": []
    },
    {
      "metadata": {
        "id": "taeHcMY8A0XR",
        "colab_type": "code",
        "colab": {
          "autoexec": {
            "startup": false,
            "wait_interval": 0
          }
        }
      },
      "cell_type": "code",
      "source": [
        "X = []\n",
        "\n",
        "for i in range(len(DF[['Lat','Long']])):\n",
        "  X.append((DF['Lat'][i], DF['Long'][i]))\n",
        "\n",
        "DF['latlong'] = X"
      ],
      "execution_count": 0,
      "outputs": []
    },
    {
      "metadata": {
        "id": "UwGH-xdYBqGP",
        "colab_type": "code",
        "colab": {
          "autoexec": {
            "startup": false,
            "wait_interval": 0
          }
        }
      },
      "cell_type": "code",
      "source": [
        "DF.drop(['Lat', 'Long'], axis = 1, inplace = True)"
      ],
      "execution_count": 0,
      "outputs": []
    },
    {
      "metadata": {
        "id": "-vSxDf_jBwAr",
        "colab_type": "code",
        "colab": {
          "autoexec": {
            "startup": false,
            "wait_interval": 0
          },
          "base_uri": "https://localhost:8080/",
          "height": 255
        },
        "outputId": "c2f91c75-b3db-4cee-9545-ab583b4a8927",
        "executionInfo": {
          "status": "ok",
          "timestamp": 1526822050506,
          "user_tz": -330,
          "elapsed": 1565,
          "user": {
            "displayName": "Dwaipayan Kundu",
            "photoUrl": "https://lh3.googleusercontent.com/a/default-user=s128",
            "userId": "102686349398832372219"
          }
        }
      },
      "cell_type": "code",
      "source": [
        "DF.head()"
      ],
      "execution_count": 53,
      "outputs": [
        {
          "output_type": "execute_result",
          "data": {
            "text/html": [
              "<div>\n",
              "<style scoped>\n",
              "    .dataframe tbody tr th:only-of-type {\n",
              "        vertical-align: middle;\n",
              "    }\n",
              "\n",
              "    .dataframe tbody tr th {\n",
              "        vertical-align: top;\n",
              "    }\n",
              "\n",
              "    .dataframe thead th {\n",
              "        text-align: right;\n",
              "    }\n",
              "</style>\n",
              "<table border=\"1\" class=\"dataframe\">\n",
              "  <thead>\n",
              "    <tr style=\"text-align: right;\">\n",
              "      <th></th>\n",
              "      <th>area_type</th>\n",
              "      <th>availability</th>\n",
              "      <th>size</th>\n",
              "      <th>society</th>\n",
              "      <th>total_sqft</th>\n",
              "      <th>bath</th>\n",
              "      <th>balcony</th>\n",
              "      <th>price</th>\n",
              "      <th>latlong</th>\n",
              "    </tr>\n",
              "  </thead>\n",
              "  <tbody>\n",
              "    <tr>\n",
              "      <th>0</th>\n",
              "      <td>2.0</td>\n",
              "      <td>80.0</td>\n",
              "      <td>0.0</td>\n",
              "      <td>0.0</td>\n",
              "      <td>1200.0</td>\n",
              "      <td>6</td>\n",
              "      <td>3</td>\n",
              "      <td>150.0</td>\n",
              "      <td>(12.963739, 77.671653)</td>\n",
              "    </tr>\n",
              "    <tr>\n",
              "      <th>1</th>\n",
              "      <td>3.0</td>\n",
              "      <td>80.0</td>\n",
              "      <td>0.0</td>\n",
              "      <td>1.0</td>\n",
              "      <td>5000.0</td>\n",
              "      <td>9</td>\n",
              "      <td>3</td>\n",
              "      <td>360.0</td>\n",
              "      <td>(12.938749000000001, 77.53379699999999)</td>\n",
              "    </tr>\n",
              "    <tr>\n",
              "      <th>2</th>\n",
              "      <td>3.0</td>\n",
              "      <td>80.0</td>\n",
              "      <td>0.0</td>\n",
              "      <td>0.0</td>\n",
              "      <td>6000.0</td>\n",
              "      <td>12</td>\n",
              "      <td>2</td>\n",
              "      <td>150.0</td>\n",
              "      <td>(12.969089, 77.75085)</td>\n",
              "    </tr>\n",
              "    <tr>\n",
              "      <th>3</th>\n",
              "      <td>2.0</td>\n",
              "      <td>80.0</td>\n",
              "      <td>0.0</td>\n",
              "      <td>0.0</td>\n",
              "      <td>1200.0</td>\n",
              "      <td>11</td>\n",
              "      <td>0</td>\n",
              "      <td>170.0</td>\n",
              "      <td>(13.011463000000001, 77.675096)</td>\n",
              "    </tr>\n",
              "    <tr>\n",
              "      <th>4</th>\n",
              "      <td>2.0</td>\n",
              "      <td>80.0</td>\n",
              "      <td>4.0</td>\n",
              "      <td>0.0</td>\n",
              "      <td>2360.0</td>\n",
              "      <td>4</td>\n",
              "      <td>1</td>\n",
              "      <td>650.0</td>\n",
              "      <td>(12.92729, 77.63141800000001)</td>\n",
              "    </tr>\n",
              "  </tbody>\n",
              "</table>\n",
              "</div>"
            ],
            "text/plain": [
              "   area_type  availability  size  society  total_sqft  bath  balcony  price  \\\n",
              "0        2.0          80.0   0.0      0.0      1200.0     6        3  150.0   \n",
              "1        3.0          80.0   0.0      1.0      5000.0     9        3  360.0   \n",
              "2        3.0          80.0   0.0      0.0      6000.0    12        2  150.0   \n",
              "3        2.0          80.0   0.0      0.0      1200.0    11        0  170.0   \n",
              "4        2.0          80.0   4.0      0.0      2360.0     4        1  650.0   \n",
              "\n",
              "                                   latlong  \n",
              "0                   (12.963739, 77.671653)  \n",
              "1  (12.938749000000001, 77.53379699999999)  \n",
              "2                    (12.969089, 77.75085)  \n",
              "3          (13.011463000000001, 77.675096)  \n",
              "4            (12.92729, 77.63141800000001)  "
            ]
          },
          "metadata": {
            "tags": []
          },
          "execution_count": 53
        }
      ]
    },
    {
      "metadata": {
        "id": "dIA794rO8pBk",
        "colab_type": "code",
        "colab": {
          "autoexec": {
            "startup": false,
            "wait_interval": 0
          }
        }
      },
      "cell_type": "code",
      "source": [
        "import geopy.distance"
      ],
      "execution_count": 0,
      "outputs": []
    },
    {
      "metadata": {
        "id": "DBeF6qhs_ar2",
        "colab_type": "text"
      },
      "cell_type": "markdown",
      "source": [
        "## proximity from nearest bus station"
      ]
    },
    {
      "metadata": {
        "id": "e-f7c1f-8pJM",
        "colab_type": "code",
        "colab": {
          "autoexec": {
            "startup": false,
            "wait_interval": 0
          }
        }
      },
      "cell_type": "code",
      "source": [
        "#Coordinates of major busstation of Bengaluru#\n",
        "c = [(12.9587681,77.6159946),\n",
        "(12.9895977,77.5343841),\n",
        "(12.9345271,77.5435215),\n",
        "(12.8515788,77.4248895000001),\n",
        "(13.0279353,77.6321671000001),\n",
        "(12.9597914,77.5289797),\n",
        "(12.9293653,77.5569265),\n",
        "(12.9155691,77.5567733),\n",
        "(13.0514609,77.5521972),\n",
        "(12.8554706,77.6648956),\n",
        "(12.8984834,77.5590645),\n",
        "(13.163135,77.4806335000001),\n",
        "(12.9682741,77.6502639),\n",
        "(12.9869094,77.6479666),\n",
        "(12.9908141,77.7218375),\n",
        "(13.0242282,77.6384283),\n",
        "(13.0262853,77.6029308),\n",
        "(12.9061395,77.5626733),\n",
        "(13.0285133,77.5196763),\n",
        "(13.0285133,77.5196763),\n",
        "(13.0083456,77.5649297),\n",
        "(13.0526818,77.4954718),\n",
        "(12.9467756,77.5519108999999),\n",
        "(13.0129209,77.5431331),\n",
        "(13.0051603,77.6123078000001),\n",
        "(12.9076406,77.5132834),\n",
        "(12.9719161,77.5298855999999),\n",
        "(13.0734129,77.5554935),\n",
        "(12.9843911,77.5489708),\n",
        "(12.9550291,77.6142102),\n",
        "(13.0990962,77.5848857999999),\n",
        "(13.1086263,77.5744794),\n",
        "(13.1004849,77.5940134),\n",
        "(12.9715987,77.5945627),\n",
        "(12.9856503,77.6056927),\n",
        "(12.9594549,77.5805685)]\n",
        "\n",
        "k = []\n",
        "\n",
        "for i in range(len(DF['latlong'])):\n",
        "  x = []\n",
        "  for j in c:\n",
        "    x.append(geopy.distance.vincenty(j, DF['latlong'][i]).km)  \n",
        "  k.append(min(x))\n",
        "  \n",
        "DF['prox_bus'] = k\n",
        "\n"
      ],
      "execution_count": 0,
      "outputs": []
    },
    {
      "metadata": {
        "id": "72url_ccG7XA",
        "colab_type": "text"
      },
      "cell_type": "markdown",
      "source": [
        "## Proximity from nearest hospitals"
      ]
    },
    {
      "metadata": {
        "id": "3Qf23BKBGww1",
        "colab_type": "code",
        "colab": {
          "autoexec": {
            "startup": false,
            "wait_interval": 0
          }
        }
      },
      "cell_type": "code",
      "source": [
        "#Coordinates of Multifacility Hospitals in Bengaluru#\n",
        "c = [(12.9824441,77.6042906),\n",
        "(12.9809679,77.4380779),\n",
        "(12.9310011,77.5647469),\n",
        "(12.971159,77.6369026),\n",
        "(12.9925096,77.5539762),\n",
        "(12.9859093,77.6442137),\n",
        "(12.9263331,77.5928642),\n",
        "(12.9989946,77.5801699),\n",
        "(12.9819939,77.6256131)\n",
        "]\n",
        "\n",
        "k = []\n",
        "\n",
        "for i in range(len(DF['latlong'])):\n",
        "  x = []\n",
        "  for j in c:\n",
        "    x.append(geopy.distance.vincenty(j, DF['latlong'][i]).km)  \n",
        "  k.append(min(x))\n",
        "  \n",
        "DF['prox_hosp'] = k"
      ],
      "execution_count": 0,
      "outputs": []
    },
    {
      "metadata": {
        "id": "-3S43ZJ5uhLR",
        "colab_type": "text"
      },
      "cell_type": "markdown",
      "source": [
        "## Proximity from Airport"
      ]
    },
    {
      "metadata": {
        "id": "5ZcR6HvtufvA",
        "colab_type": "code",
        "colab": {
          "autoexec": {
            "startup": false,
            "wait_interval": 0
          }
        }
      },
      "cell_type": "code",
      "source": [
        "#Coordinate of Airport#\n",
        "c = [(13.1986, 77.7066)]\n",
        "\n",
        "k = []\n",
        "\n",
        "for i in range(len(DF['latlong'])):\n",
        "  k.append(geopy.distance.vincenty(DF['latlong'][i], c).km) \n",
        "  \n",
        "DF['prox_airp'] = k"
      ],
      "execution_count": 0,
      "outputs": []
    },
    {
      "metadata": {
        "id": "u9gx4Tavx38R",
        "colab_type": "text"
      },
      "cell_type": "markdown",
      "source": [
        "## Proximity from nearest railway stations"
      ]
    },
    {
      "metadata": {
        "id": "rV-xdR4xxuIu",
        "colab_type": "code",
        "colab": {
          "autoexec": {
            "startup": false,
            "wait_interval": 0
          }
        }
      },
      "cell_type": "code",
      "source": [
        "#Coordinate of major railway stations in Bengaluru#\n",
        "c= [(12.961957,77.533582),\n",
        "(12.915441,77.573571),\n",
        "(12.992168,77.600393),\n",
        "(12.978313,77.569702),\n",
        "(13.001218,77.618629),\n",
        "(12.975692,77.572837),\n",
        "(12.975814,77.565708),\n",
        "(13.043567,77.512464),\n",
        "(12.952187,77.536939),\n",
        "(12.976416,77.626674),\n",
        "(12.996081,77.718958),\n",
        "(12.978291,77.638594),\n",
        "(13.032921,77.533297),\n",
        "(12.929533,77.580159),\n",
        "(12.907464,77.572879),\n",
        "(12.899623,77.482698),\n",
        "(12.961353,77.574571),\n",
        "(13.000567,77.674646),\n",
        "(12.998535,77.556952),\n",
        "(12.946241,77.579991),\n",
        "(13.008197,77.548829),\n",
        "(12.946685,77.529912),\n",
        "(13.048104,77.500104),\n",
        "(12.950482,77.573695),\n",
        "(13.028513,77.519676),\n",
        "(13.032921,77.533297),\n",
        "(13.000282,77.549747),\n",
        "(12.938361,77.580066),\n",
        "(13.270788,76.761645),\n",
        "(12.938361,77.580066),\n",
        "(12.996529,77.563224),\n",
        "(12.985947,77.644932),\n",
        "(12.97295,77.617007),\n",
        "(12.970744,77.537492),\n",
        "(12.896024,77.570227),\n",
        "(13.025234,77.522002),\n",
        "(13.028478,77.540891),\n",
        "(13.023725,77.550724)]\n",
        "\n",
        "k =[]\n",
        "\n",
        "for i in range(len(DF['latlong'])):\n",
        "  x = []\n",
        "  for j in c:\n",
        "    x.append(geopy.distance.vincenty(j, DF['latlong'][i]).km)  \n",
        "  k.append(min(x))\n",
        "  \n",
        "DF['prox_rail'] = k"
      ],
      "execution_count": 0,
      "outputs": []
    },
    {
      "metadata": {
        "id": "_YQj9FLJH9se",
        "colab_type": "text"
      },
      "cell_type": "markdown",
      "source": [
        "## Proximity from nearest schools"
      ]
    },
    {
      "metadata": {
        "id": "D2CjxbVwH7b_",
        "colab_type": "code",
        "colab": {
          "autoexec": {
            "startup": false,
            "wait_interval": 0
          }
        }
      },
      "cell_type": "code",
      "source": [
        "#Coordinate of schools in Bangalore#\n",
        "c = [(12.964219,77.587395),\n",
        "(12.9698839,77.5076958),\n",
        "(12.9694791,77.6031923000001),\n",
        "(12.995376,77.6088874),\n",
        "(12.972009,77.6036675),\n",
        "(12.968451,77.5988629999999),\n",
        "(12.9700065,77.6016988),\n",
        "(12.9656919,77.6086757000001),\n",
        "(12.9622037,77.6060356),\n",
        "(12.964551,77.600561),\n",
        "(12.9931895,77.6129871000001),\n",
        "(12.9688359,77.594906),\n",
        "(12.9929052,77.6120328),\n",
        "(13.0027046,77.6158524),\n",
        "(12.9344333,77.5741157),\n",
        "(12.9937197,77.6105348),\n",
        "(12.9625752,77.6071718000001),\n",
        "(12.986702,77.5872381),\n",
        "(12.9715987,77.5945627),\n",
        "(12.9381884,77.5431983999999),\n",
        "(12.9989963,77.5688153),\n",
        "(12.9124272,77.649282),\n",
        "(12.9406589,77.6207459),\n",
        "(13.1189952,77.5950769),\n",
        "(12.8198403,77.622123),\n",
        "(12.9269388,77.5997219999999),\n",
        "(12.9885636,77.5443422999999),\n",
        "(12.9286147,77.6060339000001),\n",
        "(12.9301467,77.7414260000001),\n",
        "(12.968412,77.631133),\n",
        "(13.0045904,77.5622461),\n",
        "(13.0554142,77.5406801),\n",
        "(13.0347046,77.5788067),\n",
        "(12.927087,77.637888),\n",
        "(12.8402211,77.7077062),\n",
        "(12.9715496,77.704302),\n",
        "(13.0317956,77.6003249),\n",
        "(13.3373693,77.6986211000001),\n",
        "(12.9001716,77.7485187),\n",
        "(13.0664072,77.6517871999999),\n",
        "(12.9110276,77.587372),\n",
        "(12.8352232,77.7783215),\n",
        "(12.894748,77.745544),\n",
        "(13.04865,77.6013319),\n",
        "(12.6391168,77.4438117),\n",
        "(12.8948979,77.5705553),\n",
        "(13.01584,77.5758020000001),\n",
        "(13.0551761,77.5355574),\n",
        "(13.0092187,77.5687686),\n",
        "(13.0495867,77.6144257),\n",
        "(12.9317164,77.5414503),\n",
        "(13.004632,77.57037),\n",
        "(13.1017306,77.5837356),\n",
        "(12.987993,77.5495504),\n",
        "(12.9233378,77.5234848),\n",
        "(12.9695643,77.6467946),\n",
        "(12.98463,77.549454),\n",
        "(12.9490812,77.6209241),\n",
        "(12.89968,77.5275541),\n",
        "(12.9879813,77.5422619999999),\n",
        "(12.887557,77.751968),\n",
        "(13.1332246,77.5586513000001),\n",
        "(12.8879308,77.6968893000001),\n",
        "(13.0504739,77.5987157),\n",
        "(12.9259308,77.5683548),\n",
        "(12.963415,77.5702258),\n",
        "(12.9711618,77.6041398),\n",
        "(12.914819,77.5963047),\n",
        "(12.9123665,77.5272433),\n",
        "(13.0587019,77.5833835),\n",
        "(12.8920293,77.5851559),\n",
        "(12.9711587,77.6281501),\n",
        "(12.8912197,77.7501073),\n",
        "(12.8543147,77.5099453),\n",
        "(12.816739,77.6510020000001),\n",
        "(12.881496,77.582458),\n",
        "(12.9958758,77.5778908),\n",
        "(12.8505391,77.6398773),\n",
        "(13.0884652,77.5959828),\n",
        "(12.936313,77.5814849999999),\n",
        "(12.952033,77.4866286),\n",
        "(13.0884652,77.5959828),\n",
        "]\n",
        "\n",
        "k = []\n",
        "\n",
        "for i in range(len(DF['latlong'])):\n",
        "  x = []\n",
        "  for j in c:\n",
        "    x.append(geopy.distance.vincenty(j, DF['latlong'][i]).km)  \n",
        "  k.append(min(x))\n",
        "  \n",
        "DF['prox_sch'] = k"
      ],
      "execution_count": 0,
      "outputs": []
    },
    {
      "metadata": {
        "id": "xOt6WWNogdnc",
        "colab_type": "text"
      },
      "cell_type": "markdown",
      "source": [
        "## Proximity from nearest "
      ]
    },
    {
      "metadata": {
        "id": "fOzfsOt0gUuf",
        "colab_type": "code",
        "colab": {
          "autoexec": {
            "startup": false,
            "wait_interval": 0
          }
        }
      },
      "cell_type": "code",
      "source": [
        "#Coordinate of Lakes in Bangalore#\n",
        "\n",
        "c = [(12.8829845,77.5981177),\n",
        "(12.9354164,77.6678529999999),\n",
        "(12.9832468,77.6199607999999),\n",
        "(13.0092983,77.5741212),\n",
        "(12.9226373,77.6174442),\n",
        "(12.945098,77.5830757),\n",
        "(12.8904142,77.5871901),\n",
        "(13.0465993,77.5855829),\n",
        "(12.9488681,77.7401652),\n",
        "(12.9715987,77.5945627),\n",
        "(12.899404,77.5798522),\n",
        "(12.8976632,77.5545979),\n",
        "(12.899404,77.5798522),\n",
        "(12.967643,77.675566),\n",
        "(12.975272,77.6883743),\n",
        "(13.0448805,77.6085027),\n",
        "(12.9600531,77.7083476),\n",
        "(12.9230648,77.6464533999999),\n",
        "(12.9517626,77.5601507),\n",
        "(12.8904142,77.5871901),\n",
        "(12.8735659,77.5794724),\n",
        "(13.0368124,77.6584253999999),\n",
        "(12.8258046,77.6944103999999)\n",
        "]\n",
        "\n",
        "k = []\n",
        "\n",
        "for i in range(len(DF['latlong'])):\n",
        "  x = []\n",
        "  for j in c:\n",
        "    x.append(geopy.distance.vincenty(j, DF['latlong'][i]).km)  \n",
        "  k.append(min(x))\n",
        "  \n",
        "DF['prox_watbdy'] = k"
      ],
      "execution_count": 0,
      "outputs": []
    },
    {
      "metadata": {
        "id": "NcbjK8rRuCbp",
        "colab_type": "text"
      },
      "cell_type": "markdown",
      "source": [
        "# Data Standardization"
      ]
    },
    {
      "metadata": {
        "id": "0t4_xbQDuHfs",
        "colab_type": "code",
        "colab": {
          "autoexec": {
            "startup": false,
            "wait_interval": 0
          },
          "base_uri": "https://localhost:8080/",
          "height": 364
        },
        "outputId": "7811bbbd-7cea-4d49-871f-de2066702756",
        "executionInfo": {
          "status": "ok",
          "timestamp": 1526823147790,
          "user_tz": -330,
          "elapsed": 1804,
          "user": {
            "displayName": "Dwaipayan Kundu",
            "photoUrl": "https://lh3.googleusercontent.com/a/default-user=s128",
            "userId": "102686349398832372219"
          }
        }
      },
      "cell_type": "code",
      "source": [
        "g = sns.distplot(DF['total_sqft'])"
      ],
      "execution_count": 65,
      "outputs": [
        {
          "output_type": "display_data",
          "data": {
            "image/png": "[encoded data removed]",
            "text/plain": [
              "<matplotlib.figure.Figure at 0x7febd7a36860>"
            ]
          },
          "metadata": {
            "tags": []
          }
        }
      ]
    },
    {
      "metadata": {
        "id": "SFw5D_WoObC_",
        "colab_type": "code",
        "colab": {
          "autoexec": {
            "startup": false,
            "wait_interval": 0
          }
        }
      },
      "cell_type": "code",
      "source": [
        "from math import log\n",
        "\n",
        "DF['prox_bus'] = DF['prox_bus'].apply(lambda x: log(x) if x>0 else 0.0)\n",
        "DF['prox_hosp'] = DF['prox_hosp'].apply(lambda x: log(x) if x>0 else 0.0)\n",
        "DF['prox_sch'] = DF['prox_sch'].apply(lambda x: log(x) if x>0 else 0.0)\n",
        "DF['prox_rail'] = DF['prox_rail'].apply(lambda x: log(x) if x>0 else 0.0)\n",
        "DF['prox_airp'] = DF['prox_airp'].apply(lambda x: log(x) if x>0 else 0.0)\n"
      ],
      "execution_count": 0,
      "outputs": []
    },
    {
      "metadata": {
        "id": "9M2PZlYt0BPh",
        "colab_type": "text"
      },
      "cell_type": "markdown",
      "source": [
        "# Checking Correlation"
      ]
    },
    {
      "metadata": {
        "id": "xpHQC9Mmu8TJ",
        "colab_type": "code",
        "colab": {
          "autoexec": {
            "startup": false,
            "wait_interval": 0
          },
          "base_uri": "https://localhost:8080/",
          "height": 393
        },
        "outputId": "60949acb-8847-4eb7-9c1c-65d224b9c0e9",
        "executionInfo": {
          "status": "ok",
          "timestamp": 1526823177116,
          "user_tz": -330,
          "elapsed": 3953,
          "user": {
            "displayName": "Dwaipayan Kundu",
            "photoUrl": "https://lh3.googleusercontent.com/a/default-user=s128",
            "userId": "102686349398832372219"
          }
        }
      },
      "cell_type": "code",
      "source": [
        "correlation_map = np.corrcoef(DF.drop(['latlong', 'price'], axis = 1).values.T)\n",
        "sns.set(font_scale=1.0)\n",
        "heatmap = sns.heatmap(correlation_map, cbar=True, annot=True, square=True, fmt='.2f', yticklabels=DF.drop(['latlong', 'price'], axis = 1).columns.values, xticklabels=DF.drop(['latlong', 'price'], axis = 1).columns.values)"
      ],
      "execution_count": 68,
      "outputs": [
        {
          "output_type": "display_data",
          "data": {
            "image/png": "[encoded data removed]",
            "text/plain": [
              "<matplotlib.figure.Figure at 0x7febd77b2668>"
            ]
          },
          "metadata": {
            "tags": []
          }
        }
      ]
    },
    {
      "metadata": {
        "id": "N2eiTO9mD6jo",
        "colab_type": "text"
      },
      "cell_type": "markdown",
      "source": [
        "## Removing Correlation by using PCA"
      ]
    },
    {
      "metadata": {
        "id": "1O6pzMI-DS2x",
        "colab_type": "code",
        "colab": {
          "autoexec": {
            "startup": false,
            "wait_interval": 0
          }
        }
      },
      "cell_type": "code",
      "source": [
        "from sklearn.decomposition import PCA"
      ],
      "execution_count": 0,
      "outputs": []
    },
    {
      "metadata": {
        "id": "1PGBoxoDEI3_",
        "colab_type": "code",
        "colab": {
          "autoexec": {
            "startup": false,
            "wait_interval": 0
          }
        }
      },
      "cell_type": "code",
      "source": [
        "p = PCA(n_components = 6)"
      ],
      "execution_count": 0,
      "outputs": []
    },
    {
      "metadata": {
        "id": "kO_1Fm30aQzl",
        "colab_type": "code",
        "colab": {
          "autoexec": {
            "startup": false,
            "wait_interval": 0
          }
        }
      },
      "cell_type": "code",
      "source": [
        "df_pca = p.fit_transform(DF[['prox_bus', 'prox_hosp', 'prox_airp', 'prox_rail', 'prox_sch', 'prox_watbdy']])\n",
        "df_pca = pd.DataFrame(df_pca, columns = ['prox_bus', 'prox_hosp', 'prox_airp', 'prox_rail', 'prox_sch', 'prox_watbdy'])"
      ],
      "execution_count": 0,
      "outputs": []
    },
    {
      "metadata": {
        "id": "Gk7byHjdD8lt",
        "colab_type": "code",
        "colab": {
          "autoexec": {
            "startup": false,
            "wait_interval": 0
          },
          "base_uri": "https://localhost:8080/",
          "height": 204
        },
        "outputId": "3b5d42d1-848e-46eb-a38d-09248997a846",
        "executionInfo": {
          "status": "ok",
          "timestamp": 1526823279369,
          "user_tz": -330,
          "elapsed": 1143,
          "user": {
            "displayName": "Dwaipayan Kundu",
            "photoUrl": "https://lh3.googleusercontent.com/a/default-user=s128",
            "userId": "102686349398832372219"
          }
        }
      },
      "cell_type": "code",
      "source": [
        "df_pca.head()"
      ],
      "execution_count": 73,
      "outputs": [
        {
          "output_type": "execute_result",
          "data": {
            "text/html": [
              "<div>\n",
              "<style scoped>\n",
              "    .dataframe tbody tr th:only-of-type {\n",
              "        vertical-align: middle;\n",
              "    }\n",
              "\n",
              "    .dataframe tbody tr th {\n",
              "        vertical-align: top;\n",
              "    }\n",
              "\n",
              "    .dataframe thead th {\n",
              "        text-align: right;\n",
              "    }\n",
              "</style>\n",
              "<table border=\"1\" class=\"dataframe\">\n",
              "  <thead>\n",
              "    <tr style=\"text-align: right;\">\n",
              "      <th></th>\n",
              "      <th>prox_bus</th>\n",
              "      <th>prox_hosp</th>\n",
              "      <th>prox_airp</th>\n",
              "      <th>prox_rail</th>\n",
              "      <th>prox_sch</th>\n",
              "      <th>prox_watbdy</th>\n",
              "    </tr>\n",
              "  </thead>\n",
              "  <tbody>\n",
              "    <tr>\n",
              "      <th>0</th>\n",
              "      <td>-3.501122</td>\n",
              "      <td>-0.074176</td>\n",
              "      <td>-0.328363</td>\n",
              "      <td>0.059652</td>\n",
              "      <td>0.201146</td>\n",
              "      <td>0.020003</td>\n",
              "    </tr>\n",
              "    <tr>\n",
              "      <th>1</th>\n",
              "      <td>-1.126926</td>\n",
              "      <td>2.446558</td>\n",
              "      <td>3.091274</td>\n",
              "      <td>0.981288</td>\n",
              "      <td>-0.356225</td>\n",
              "      <td>-0.084852</td>\n",
              "    </tr>\n",
              "    <tr>\n",
              "      <th>2</th>\n",
              "      <td>-1.536614</td>\n",
              "      <td>-0.662089</td>\n",
              "      <td>-0.547812</td>\n",
              "      <td>0.005786</td>\n",
              "      <td>-0.177493</td>\n",
              "      <td>0.018097</td>\n",
              "    </tr>\n",
              "    <tr>\n",
              "      <th>3</th>\n",
              "      <td>-0.807846</td>\n",
              "      <td>0.654346</td>\n",
              "      <td>-1.014281</td>\n",
              "      <td>-1.599485</td>\n",
              "      <td>-0.688608</td>\n",
              "      <td>0.082263</td>\n",
              "    </tr>\n",
              "    <tr>\n",
              "      <th>4</th>\n",
              "      <td>-2.482735</td>\n",
              "      <td>-0.423254</td>\n",
              "      <td>-0.184752</td>\n",
              "      <td>-0.036470</td>\n",
              "      <td>0.295626</td>\n",
              "      <td>-0.025901</td>\n",
              "    </tr>\n",
              "  </tbody>\n",
              "</table>\n",
              "</div>"
            ],
            "text/plain": [
              "   prox_bus  prox_hosp  prox_airp  prox_rail  prox_sch  prox_watbdy\n",
              "0 -3.501122  -0.074176  -0.328363   0.059652  0.201146     0.020003\n",
              "1 -1.126926   2.446558   3.091274   0.981288 -0.356225    -0.084852\n",
              "2 -1.536614  -0.662089  -0.547812   0.005786 -0.177493     0.018097\n",
              "3 -0.807846   0.654346  -1.014281  -1.599485 -0.688608     0.082263\n",
              "4 -2.482735  -0.423254  -0.184752  -0.036470  0.295626    -0.025901"
            ]
          },
          "metadata": {
            "tags": []
          },
          "execution_count": 73
        }
      ]
    },
    {
      "metadata": {
        "id": "3UMrfkYhDt0o",
        "colab_type": "code",
        "colab": {
          "autoexec": {
            "startup": false,
            "wait_interval": 0
          }
        }
      },
      "cell_type": "code",
      "source": [
        "DF.drop(['prox_bus', 'prox_hosp', 'prox_airp', 'prox_rail', 'prox_sch'], axis = 1, inplace = True)\n",
        "DF.reset_index(drop=True, inplace=True)\n",
        "df_pca.reset_index(drop=True, inplace=True)"
      ],
      "execution_count": 0,
      "outputs": []
    },
    {
      "metadata": {
        "id": "1SQm2HBWFpWT",
        "colab_type": "code",
        "colab": {
          "autoexec": {
            "startup": false,
            "wait_interval": 0
          }
        }
      },
      "cell_type": "code",
      "source": [
        "DF = pd.concat([DF, df_pca], axis = 1)"
      ],
      "execution_count": 0,
      "outputs": []
    },
    {
      "metadata": {
        "id": "6fdQrZuqFpSu",
        "colab_type": "code",
        "colab": {
          "autoexec": {
            "startup": false,
            "wait_interval": 0
          },
          "base_uri": "https://localhost:8080/",
          "height": 292
        },
        "outputId": "b4de08cf-6dce-4550-a012-9bca667a5cd4",
        "executionInfo": {
          "status": "ok",
          "timestamp": 1526823316759,
          "user_tz": -330,
          "elapsed": 1050,
          "user": {
            "displayName": "Dwaipayan Kundu",
            "photoUrl": "https://lh3.googleusercontent.com/a/default-user=s128",
            "userId": "102686349398832372219"
          }
        }
      },
      "cell_type": "code",
      "source": [
        "DF.head()"
      ],
      "execution_count": 76,
      "outputs": [
        {
          "output_type": "execute_result",
          "data": {
            "text/html": [
              "<div>\n",
              "<style scoped>\n",
              "    .dataframe tbody tr th:only-of-type {\n",
              "        vertical-align: middle;\n",
              "    }\n",
              "\n",
              "    .dataframe tbody tr th {\n",
              "        vertical-align: top;\n",
              "    }\n",
              "\n",
              "    .dataframe thead th {\n",
              "        text-align: right;\n",
              "    }\n",
              "</style>\n",
              "<table border=\"1\" class=\"dataframe\">\n",
              "  <thead>\n",
              "    <tr style=\"text-align: right;\">\n",
              "      <th></th>\n",
              "      <th>area_type</th>\n",
              "      <th>availability</th>\n",
              "      <th>size</th>\n",
              "      <th>society</th>\n",
              "      <th>total_sqft</th>\n",
              "      <th>bath</th>\n",
              "      <th>balcony</th>\n",
              "      <th>price</th>\n",
              "      <th>latlong</th>\n",
              "      <th>prox_watbdy</th>\n",
              "      <th>prox_bus</th>\n",
              "      <th>prox_hosp</th>\n",
              "      <th>prox_airp</th>\n",
              "      <th>prox_rail</th>\n",
              "      <th>prox_sch</th>\n",
              "      <th>prox_watbdy</th>\n",
              "    </tr>\n",
              "  </thead>\n",
              "  <tbody>\n",
              "    <tr>\n",
              "      <th>0</th>\n",
              "      <td>2.0</td>\n",
              "      <td>80.0</td>\n",
              "      <td>0.0</td>\n",
              "      <td>0.0</td>\n",
              "      <td>1200.0</td>\n",
              "      <td>6</td>\n",
              "      <td>3</td>\n",
              "      <td>150.0</td>\n",
              "      <td>(12.963739, 77.671653)</td>\n",
              "      <td>0.605630</td>\n",
              "      <td>-3.501122</td>\n",
              "      <td>-0.074176</td>\n",
              "      <td>-0.328363</td>\n",
              "      <td>0.059652</td>\n",
              "      <td>0.201146</td>\n",
              "      <td>0.020003</td>\n",
              "    </tr>\n",
              "    <tr>\n",
              "      <th>1</th>\n",
              "      <td>3.0</td>\n",
              "      <td>80.0</td>\n",
              "      <td>0.0</td>\n",
              "      <td>1.0</td>\n",
              "      <td>5000.0</td>\n",
              "      <td>9</td>\n",
              "      <td>3</td>\n",
              "      <td>360.0</td>\n",
              "      <td>(12.938749000000001, 77.53379699999999)</td>\n",
              "      <td>3.201567</td>\n",
              "      <td>-1.126926</td>\n",
              "      <td>2.446558</td>\n",
              "      <td>3.091274</td>\n",
              "      <td>0.981288</td>\n",
              "      <td>-0.356225</td>\n",
              "      <td>-0.084852</td>\n",
              "    </tr>\n",
              "    <tr>\n",
              "      <th>2</th>\n",
              "      <td>3.0</td>\n",
              "      <td>80.0</td>\n",
              "      <td>0.0</td>\n",
              "      <td>0.0</td>\n",
              "      <td>6000.0</td>\n",
              "      <td>12</td>\n",
              "      <td>2</td>\n",
              "      <td>150.0</td>\n",
              "      <td>(12.969089, 77.75085)</td>\n",
              "      <td>2.519602</td>\n",
              "      <td>-1.536614</td>\n",
              "      <td>-0.662089</td>\n",
              "      <td>-0.547812</td>\n",
              "      <td>0.005786</td>\n",
              "      <td>-0.177493</td>\n",
              "      <td>0.018097</td>\n",
              "    </tr>\n",
              "    <tr>\n",
              "      <th>3</th>\n",
              "      <td>2.0</td>\n",
              "      <td>80.0</td>\n",
              "      <td>0.0</td>\n",
              "      <td>0.0</td>\n",
              "      <td>1200.0</td>\n",
              "      <td>11</td>\n",
              "      <td>0</td>\n",
              "      <td>170.0</td>\n",
              "      <td>(13.011463000000001, 77.675096)</td>\n",
              "      <td>3.336891</td>\n",
              "      <td>-0.807846</td>\n",
              "      <td>0.654346</td>\n",
              "      <td>-1.014281</td>\n",
              "      <td>-1.599485</td>\n",
              "      <td>-0.688608</td>\n",
              "      <td>0.082263</td>\n",
              "    </tr>\n",
              "    <tr>\n",
              "      <th>4</th>\n",
              "      <td>2.0</td>\n",
              "      <td>80.0</td>\n",
              "      <td>4.0</td>\n",
              "      <td>0.0</td>\n",
              "      <td>2360.0</td>\n",
              "      <td>4</td>\n",
              "      <td>1</td>\n",
              "      <td>650.0</td>\n",
              "      <td>(12.92729, 77.63141800000001)</td>\n",
              "      <td>1.601377</td>\n",
              "      <td>-2.482735</td>\n",
              "      <td>-0.423254</td>\n",
              "      <td>-0.184752</td>\n",
              "      <td>-0.036470</td>\n",
              "      <td>0.295626</td>\n",
              "      <td>-0.025901</td>\n",
              "    </tr>\n",
              "  </tbody>\n",
              "</table>\n",
              "</div>"
            ],
            "text/plain": [
              "   area_type  availability  size  society  total_sqft  bath  balcony  price  \\\n",
              "0        2.0          80.0   0.0      0.0      1200.0     6        3  150.0   \n",
              "1        3.0          80.0   0.0      1.0      5000.0     9        3  360.0   \n",
              "2        3.0          80.0   0.0      0.0      6000.0    12        2  150.0   \n",
              "3        2.0          80.0   0.0      0.0      1200.0    11        0  170.0   \n",
              "4        2.0          80.0   4.0      0.0      2360.0     4        1  650.0   \n",
              "\n",
              "                                   latlong  prox_watbdy  prox_bus  prox_hosp  \\\n",
              "0                   (12.963739, 77.671653)     0.605630 -3.501122  -0.074176   \n",
              "1  (12.938749000000001, 77.53379699999999)     3.201567 -1.126926   2.446558   \n",
              "2                    (12.969089, 77.75085)     2.519602 -1.536614  -0.662089   \n",
              "3          (13.011463000000001, 77.675096)     3.336891 -0.807846   0.654346   \n",
              "4            (12.92729, 77.63141800000001)     1.601377 -2.482735  -0.423254   \n",
              "\n",
              "   prox_airp  prox_rail  prox_sch  prox_watbdy  \n",
              "0  -0.328363   0.059652  0.201146     0.020003  \n",
              "1   3.091274   0.981288 -0.356225    -0.084852  \n",
              "2  -0.547812   0.005786 -0.177493     0.018097  \n",
              "3  -1.014281  -1.599485 -0.688608     0.082263  \n",
              "4  -0.184752  -0.036470  0.295626    -0.025901  "
            ]
          },
          "metadata": {
            "tags": []
          },
          "execution_count": 76
        }
      ]
    },
    {
      "metadata": {
        "id": "eUm74ia1FpJs",
        "colab_type": "code",
        "colab": {
          "autoexec": {
            "startup": false,
            "wait_interval": 0
          },
          "base_uri": "https://localhost:8080/",
          "height": 393
        },
        "outputId": "301cc6e1-2af2-439a-cf10-4197e20dd1d6",
        "executionInfo": {
          "status": "ok",
          "timestamp": 1526823331845,
          "user_tz": -330,
          "elapsed": 2358,
          "user": {
            "displayName": "Dwaipayan Kundu",
            "photoUrl": "https://lh3.googleusercontent.com/a/default-user=s128",
            "userId": "102686349398832372219"
          }
        }
      },
      "cell_type": "code",
      "source": [
        "correlation_map = np.corrcoef(DF.drop(['latlong', 'price'], axis = 1).values.T)\n",
        "sns.set(font_scale=1.0)\n",
        "heatmap = sns.heatmap(correlation_map, cbar=True, annot=True, square=True, fmt='.2f', yticklabels=DF.drop(['latlong', 'price'], axis = 1).columns.values, xticklabels=DF.drop(['latlong', 'price'], axis = 1).columns.values)"
      ],
      "execution_count": 77,
      "outputs": [
        {
          "output_type": "display_data",
          "data": {
            "image/png": "[encoded data removed]",
            "text/plain": [
              "<matplotlib.figure.Figure at 0x7febd76a66a0>"
            ]
          },
          "metadata": {
            "tags": []
          }
        }
      ]
    },
    {
      "metadata": {
        "id": "ga7UWyLo1V1-",
        "colab_type": "text"
      },
      "cell_type": "markdown",
      "source": [
        "# Outlier Analysis for Training Data"
      ]
    },
    {
      "metadata": {
        "id": "-yHRI0PfWYJA",
        "colab_type": "code",
        "colab": {
          "autoexec": {
            "startup": false,
            "wait_interval": 0
          },
          "base_uri": "https://localhost:8080/",
          "height": 204
        },
        "outputId": "5547466a-ee0d-4e0f-b592-36b193a120fa",
        "executionInfo": {
          "status": "ok",
          "timestamp": 1526716127929,
          "user_tz": -330,
          "elapsed": 1074,
          "user": {
            "displayName": "Dwaipayan Kundu",
            "photoUrl": "https://lh3.googleusercontent.com/a/default-user=s128",
            "userId": "102686349398832372219"
          }
        }
      },
      "cell_type": "code",
      "source": [
        "DF.drop(['latlong', 'price'], axis = 1).head()"
      ],
      "execution_count": 54,
      "outputs": [
        {
          "output_type": "execute_result",
          "data": {
            "text/html": [
              "<div>\n",
              "<style scoped>\n",
              "    .dataframe tbody tr th:only-of-type {\n",
              "        vertical-align: middle;\n",
              "    }\n",
              "\n",
              "    .dataframe tbody tr th {\n",
              "        vertical-align: top;\n",
              "    }\n",
              "\n",
              "    .dataframe thead th {\n",
              "        text-align: right;\n",
              "    }\n",
              "</style>\n",
              "<table border=\"1\" class=\"dataframe\">\n",
              "  <thead>\n",
              "    <tr style=\"text-align: right;\">\n",
              "      <th></th>\n",
              "      <th>area_type</th>\n",
              "      <th>availability</th>\n",
              "      <th>size</th>\n",
              "      <th>society</th>\n",
              "      <th>total_sqft</th>\n",
              "      <th>bath</th>\n",
              "      <th>balcony</th>\n",
              "      <th>prox_bus</th>\n",
              "      <th>prox_hosp</th>\n",
              "      <th>prox_airp</th>\n",
              "      <th>prox_rail</th>\n",
              "      <th>prox_sch</th>\n",
              "    </tr>\n",
              "  </thead>\n",
              "  <tbody>\n",
              "    <tr>\n",
              "      <th>0</th>\n",
              "      <td>2.0</td>\n",
              "      <td>12.0</td>\n",
              "      <td>0.0</td>\n",
              "      <td>0.0</td>\n",
              "      <td>1200.0</td>\n",
              "      <td>6</td>\n",
              "      <td>3</td>\n",
              "      <td>2.374321</td>\n",
              "      <td>3.857275</td>\n",
              "      <td>26.257905</td>\n",
              "      <td>3.800145</td>\n",
              "      <td>2.773042</td>\n",
              "    </tr>\n",
              "    <tr>\n",
              "      <th>1</th>\n",
              "      <td>3.0</td>\n",
              "      <td>12.0</td>\n",
              "      <td>0.0</td>\n",
              "      <td>1.0</td>\n",
              "      <td>5000.0</td>\n",
              "      <td>9</td>\n",
              "      <td>3</td>\n",
              "      <td>1.153974</td>\n",
              "      <td>3.466121</td>\n",
              "      <td>34.317061</td>\n",
              "      <td>0.973923</td>\n",
              "      <td>1.022043</td>\n",
              "    </tr>\n",
              "    <tr>\n",
              "      <th>2</th>\n",
              "      <td>3.0</td>\n",
              "      <td>12.0</td>\n",
              "      <td>0.0</td>\n",
              "      <td>0.0</td>\n",
              "      <td>6000.0</td>\n",
              "      <td>12</td>\n",
              "      <td>2</td>\n",
              "      <td>3.960353</td>\n",
              "      <td>11.718147</td>\n",
              "      <td>25.840581</td>\n",
              "      <td>4.570432</td>\n",
              "      <td>4.427881</td>\n",
              "    </tr>\n",
              "    <tr>\n",
              "      <th>3</th>\n",
              "      <td>2.0</td>\n",
              "      <td>12.0</td>\n",
              "      <td>0.0</td>\n",
              "      <td>0.0</td>\n",
              "      <td>1200.0</td>\n",
              "      <td>11</td>\n",
              "      <td>0</td>\n",
              "      <td>4.005091</td>\n",
              "      <td>4.383649</td>\n",
              "      <td>20.983192</td>\n",
              "      <td>1.206418</td>\n",
              "      <td>5.434825</td>\n",
              "    </tr>\n",
              "    <tr>\n",
              "      <th>4</th>\n",
              "      <td>2.0</td>\n",
              "      <td>12.0</td>\n",
              "      <td>4.0</td>\n",
              "      <td>0.0</td>\n",
              "      <td>2360.0</td>\n",
              "      <td>4</td>\n",
              "      <td>1</td>\n",
              "      <td>3.592201</td>\n",
              "      <td>4.185061</td>\n",
              "      <td>31.103162</td>\n",
              "      <td>5.287858</td>\n",
              "      <td>0.702459</td>\n",
              "    </tr>\n",
              "  </tbody>\n",
              "</table>\n",
              "</div>"
            ],
            "text/plain": [
              "   area_type  availability  size  society  total_sqft  bath  balcony  \\\n",
              "0        2.0          12.0   0.0      0.0      1200.0     6        3   \n",
              "1        3.0          12.0   0.0      1.0      5000.0     9        3   \n",
              "2        3.0          12.0   0.0      0.0      6000.0    12        2   \n",
              "3        2.0          12.0   0.0      0.0      1200.0    11        0   \n",
              "4        2.0          12.0   4.0      0.0      2360.0     4        1   \n",
              "\n",
              "   prox_bus  prox_hosp  prox_airp  prox_rail  prox_sch  \n",
              "0  2.374321   3.857275  26.257905   3.800145  2.773042  \n",
              "1  1.153974   3.466121  34.317061   0.973923  1.022043  \n",
              "2  3.960353  11.718147  25.840581   4.570432  4.427881  \n",
              "3  4.005091   4.383649  20.983192   1.206418  5.434825  \n",
              "4  3.592201   4.185061  31.103162   5.287858  0.702459  "
            ]
          },
          "metadata": {
            "tags": []
          },
          "execution_count": 54
        }
      ]
    },
    {
      "metadata": {
        "id": "kreDkCEbHyYv",
        "colab_type": "code",
        "colab": {
          "autoexec": {
            "startup": false,
            "wait_interval": 0
          }
        }
      },
      "cell_type": "code",
      "source": [
        "from sklearn.covariance import MinCovDet\n",
        "\n",
        "COV = MinCovDet()\n",
        "COV.fit(DF.drop(['latlong', 'price'], axis = 1))\n",
        "\n",
        "c = COV.covariance_"
      ],
      "execution_count": 0,
      "outputs": []
    },
    {
      "metadata": {
        "id": "UJIHuEH4HyOF",
        "colab_type": "code",
        "colab": {
          "autoexec": {
            "startup": false,
            "wait_interval": 0
          }
        }
      },
      "cell_type": "code",
      "source": [
        "from scipy.spatial.distance import mahalanobis\n",
        "\n",
        "maha = []\n",
        "\n",
        "for i in range(DF.shape[0]):\n",
        "  maha.append(mahalanobis(DF.drop(['latlong', 'price'], axis = 1).loc[i, :], np.mean(DF.drop(['latlong', 'price'], axis = 1)), np.linalg.inv(c)))"
      ],
      "execution_count": 0,
      "outputs": []
    },
    {
      "metadata": {
        "id": "Eu3y3CrSHxn2",
        "colab_type": "code",
        "colab": {
          "autoexec": {
            "startup": false,
            "wait_interval": 0
          }
        }
      },
      "cell_type": "code",
      "source": [
        "outlier_indices = []\n",
        "\n",
        "for i in range(len(maha)):\n",
        "  if maha[i] > (((np.percentile(maha, 75) - np.percentile(maha, 25)) ) + (np.percentile(maha, 75))):\n",
        "    outlier_indices.append(i)\n",
        "                                                                              "
      ],
      "execution_count": 0,
      "outputs": []
    },
    {
      "metadata": {
        "id": "1Tl0jrMhHxkc",
        "colab_type": "code",
        "colab": {
          "autoexec": {
            "startup": false,
            "wait_interval": 0
          }
        }
      },
      "cell_type": "code",
      "source": [
        "DF = DF.drop(index = outlier_indices)"
      ],
      "execution_count": 0,
      "outputs": []
    },
    {
      "metadata": {
        "id": "0euCVLaTHxg4",
        "colab_type": "code",
        "colab": {
          "autoexec": {
            "startup": false,
            "wait_interval": 0
          },
          "base_uri": "https://localhost:8080/",
          "height": 34
        },
        "outputId": "b23069d9-c09d-4ccc-d0f1-f4af860fb476",
        "executionInfo": {
          "status": "ok",
          "timestamp": 1526825399095,
          "user_tz": -330,
          "elapsed": 980,
          "user": {
            "displayName": "Dwaipayan Kundu",
            "photoUrl": "https://lh3.googleusercontent.com/a/default-user=s128",
            "userId": "102686349398832372219"
          }
        }
      },
      "cell_type": "code",
      "source": [
        "DF.shape"
      ],
      "execution_count": 87,
      "outputs": [
        {
          "output_type": "execute_result",
          "data": {
            "text/plain": [
              "(12743, 16)"
            ]
          },
          "metadata": {
            "tags": []
          },
          "execution_count": 87
        }
      ]
    },
    {
      "metadata": {
        "id": "hn_lo3Jc4yMl",
        "colab_type": "code",
        "colab": {
          "autoexec": {
            "startup": false,
            "wait_interval": 0
          }
        }
      },
      "cell_type": "code",
      "source": [
        "DF = pd.concat([DF, loc], axis = 1)"
      ],
      "execution_count": 0,
      "outputs": []
    },
    {
      "metadata": {
        "id": "uqJVC0V35IEc",
        "colab_type": "code",
        "colab": {
          "autoexec": {
            "startup": false,
            "wait_interval": 0
          }
        }
      },
      "cell_type": "code",
      "source": [
        "DF['location'] = le.fit_transform(DF['location'])"
      ],
      "execution_count": 0,
      "outputs": []
    },
    {
      "metadata": {
        "id": "PA9rwWwf5H3Z",
        "colab_type": "code",
        "colab": {
          "autoexec": {
            "startup": false,
            "wait_interval": 0
          },
          "base_uri": "https://localhost:8080/",
          "height": 292
        },
        "outputId": "94ec0d8b-2bfa-4911-b674-63595515610b",
        "executionInfo": {
          "status": "ok",
          "timestamp": 1526825761951,
          "user_tz": -330,
          "elapsed": 1048,
          "user": {
            "displayName": "Dwaipayan Kundu",
            "photoUrl": "https://lh3.googleusercontent.com/a/default-user=s128",
            "userId": "102686349398832372219"
          }
        }
      },
      "cell_type": "code",
      "source": [
        "DF.head()"
      ],
      "execution_count": 93,
      "outputs": [
        {
          "output_type": "execute_result",
          "data": {
            "text/html": [
              "<div>\n",
              "<style scoped>\n",
              "    .dataframe tbody tr th:only-of-type {\n",
              "        vertical-align: middle;\n",
              "    }\n",
              "\n",
              "    .dataframe tbody tr th {\n",
              "        vertical-align: top;\n",
              "    }\n",
              "\n",
              "    .dataframe thead th {\n",
              "        text-align: right;\n",
              "    }\n",
              "</style>\n",
              "<table border=\"1\" class=\"dataframe\">\n",
              "  <thead>\n",
              "    <tr style=\"text-align: right;\">\n",
              "      <th></th>\n",
              "      <th>area_type</th>\n",
              "      <th>availability</th>\n",
              "      <th>size</th>\n",
              "      <th>society</th>\n",
              "      <th>total_sqft</th>\n",
              "      <th>bath</th>\n",
              "      <th>balcony</th>\n",
              "      <th>price</th>\n",
              "      <th>latlong</th>\n",
              "      <th>prox_watbdy</th>\n",
              "      <th>prox_bus</th>\n",
              "      <th>prox_hosp</th>\n",
              "      <th>prox_airp</th>\n",
              "      <th>prox_rail</th>\n",
              "      <th>prox_sch</th>\n",
              "      <th>prox_watbdy</th>\n",
              "      <th>location</th>\n",
              "    </tr>\n",
              "  </thead>\n",
              "  <tbody>\n",
              "    <tr>\n",
              "      <th>0</th>\n",
              "      <td>2.0</td>\n",
              "      <td>80.0</td>\n",
              "      <td>0.0</td>\n",
              "      <td>0.0</td>\n",
              "      <td>1200.0</td>\n",
              "      <td>6.0</td>\n",
              "      <td>3.0</td>\n",
              "      <td>150.0</td>\n",
              "      <td>(12.963739, 77.671653)</td>\n",
              "      <td>0.605630</td>\n",
              "      <td>-3.501122</td>\n",
              "      <td>-0.074176</td>\n",
              "      <td>-0.328363</td>\n",
              "      <td>0.059652</td>\n",
              "      <td>0.201146</td>\n",
              "      <td>0.020003</td>\n",
              "      <td>416</td>\n",
              "    </tr>\n",
              "    <tr>\n",
              "      <th>1</th>\n",
              "      <td>3.0</td>\n",
              "      <td>80.0</td>\n",
              "      <td>0.0</td>\n",
              "      <td>1.0</td>\n",
              "      <td>5000.0</td>\n",
              "      <td>9.0</td>\n",
              "      <td>3.0</td>\n",
              "      <td>360.0</td>\n",
              "      <td>(12.938749000000001, 77.53379699999999)</td>\n",
              "      <td>3.201567</td>\n",
              "      <td>-1.126926</td>\n",
              "      <td>2.446558</td>\n",
              "      <td>3.091274</td>\n",
              "      <td>0.981288</td>\n",
              "      <td>-0.356225</td>\n",
              "      <td>-0.084852</td>\n",
              "      <td>314</td>\n",
              "    </tr>\n",
              "    <tr>\n",
              "      <th>2</th>\n",
              "      <td>3.0</td>\n",
              "      <td>80.0</td>\n",
              "      <td>0.0</td>\n",
              "      <td>0.0</td>\n",
              "      <td>6000.0</td>\n",
              "      <td>12.0</td>\n",
              "      <td>2.0</td>\n",
              "      <td>150.0</td>\n",
              "      <td>(12.969089, 77.75085)</td>\n",
              "      <td>2.519602</td>\n",
              "      <td>-1.536614</td>\n",
              "      <td>-0.662089</td>\n",
              "      <td>-0.547812</td>\n",
              "      <td>0.005786</td>\n",
              "      <td>-0.177493</td>\n",
              "      <td>0.018097</td>\n",
              "      <td>1177</td>\n",
              "    </tr>\n",
              "    <tr>\n",
              "      <th>3</th>\n",
              "      <td>2.0</td>\n",
              "      <td>80.0</td>\n",
              "      <td>0.0</td>\n",
              "      <td>0.0</td>\n",
              "      <td>1200.0</td>\n",
              "      <td>11.0</td>\n",
              "      <td>0.0</td>\n",
              "      <td>170.0</td>\n",
              "      <td>(13.011463000000001, 77.675096)</td>\n",
              "      <td>3.336891</td>\n",
              "      <td>-0.807846</td>\n",
              "      <td>0.654346</td>\n",
              "      <td>-1.014281</td>\n",
              "      <td>-1.599485</td>\n",
              "      <td>-0.688608</td>\n",
              "      <td>0.082263</td>\n",
              "      <td>755</td>\n",
              "    </tr>\n",
              "    <tr>\n",
              "      <th>4</th>\n",
              "      <td>2.0</td>\n",
              "      <td>80.0</td>\n",
              "      <td>4.0</td>\n",
              "      <td>0.0</td>\n",
              "      <td>2360.0</td>\n",
              "      <td>4.0</td>\n",
              "      <td>1.0</td>\n",
              "      <td>650.0</td>\n",
              "      <td>(12.92729, 77.63141800000001)</td>\n",
              "      <td>1.601377</td>\n",
              "      <td>-2.482735</td>\n",
              "      <td>-0.423254</td>\n",
              "      <td>-0.184752</td>\n",
              "      <td>-0.036470</td>\n",
              "      <td>0.295626</td>\n",
              "      <td>-0.025901</td>\n",
              "      <td>714</td>\n",
              "    </tr>\n",
              "  </tbody>\n",
              "</table>\n",
              "</div>"
            ],
            "text/plain": [
              "   area_type  availability  size  society  total_sqft  bath  balcony  price  \\\n",
              "0        2.0          80.0   0.0      0.0      1200.0   6.0      3.0  150.0   \n",
              "1        3.0          80.0   0.0      1.0      5000.0   9.0      3.0  360.0   \n",
              "2        3.0          80.0   0.0      0.0      6000.0  12.0      2.0  150.0   \n",
              "3        2.0          80.0   0.0      0.0      1200.0  11.0      0.0  170.0   \n",
              "4        2.0          80.0   4.0      0.0      2360.0   4.0      1.0  650.0   \n",
              "\n",
              "                                   latlong  prox_watbdy  prox_bus  prox_hosp  \\\n",
              "0                   (12.963739, 77.671653)     0.605630 -3.501122  -0.074176   \n",
              "1  (12.938749000000001, 77.53379699999999)     3.201567 -1.126926   2.446558   \n",
              "2                    (12.969089, 77.75085)     2.519602 -1.536614  -0.662089   \n",
              "3          (13.011463000000001, 77.675096)     3.336891 -0.807846   0.654346   \n",
              "4            (12.92729, 77.63141800000001)     1.601377 -2.482735  -0.423254   \n",
              "\n",
              "   prox_airp  prox_rail  prox_sch  prox_watbdy  location  \n",
              "0  -0.328363   0.059652  0.201146     0.020003       416  \n",
              "1   3.091274   0.981288 -0.356225    -0.084852       314  \n",
              "2  -0.547812   0.005786 -0.177493     0.018097      1177  \n",
              "3  -1.014281  -1.599485 -0.688608     0.082263       755  \n",
              "4  -0.184752  -0.036470  0.295626    -0.025901       714  "
            ]
          },
          "metadata": {
            "tags": []
          },
          "execution_count": 93
        }
      ]
    },
    {
      "metadata": {
        "id": "DOwQn8387bT7",
        "colab_type": "code",
        "colab": {
          "autoexec": {
            "startup": false,
            "wait_interval": 0
          }
        }
      },
      "cell_type": "code",
      "source": [
        ""
      ],
      "execution_count": 0,
      "outputs": []
    },
    {
      "metadata": {
        "id": "lDGiWnHL7e6J",
        "colab_type": "text"
      },
      "cell_type": "markdown",
      "source": [
        "# Training a Linear Regression Model"
      ]
    },
    {
      "metadata": {
        "id": "ME4_C2H57bkk",
        "colab_type": "code",
        "colab": {
          "autoexec": {
            "startup": false,
            "wait_interval": 0
          }
        }
      },
      "cell_type": "code",
      "source": [
        "from sklearn.linear_model import LinearRegression, RANSACRegressor\n",
        "from sklearn.metrics import mean_squared_error, r2_score, explained_variance_score"
      ],
      "execution_count": 0,
      "outputs": []
    },
    {
      "metadata": {
        "id": "paZk0UoD8HKZ",
        "colab_type": "code",
        "colab": {
          "autoexec": {
            "startup": false,
            "wait_interval": 0
          }
        }
      },
      "cell_type": "code",
      "source": [
        "X['area_type'] = X['area_type'].apply(lambda x: int(x))\n",
        "X['availability'] = X['availability'].apply(lambda x: int(x))\n",
        "X['size'] = X['size'].apply(lambda x: int(x))\n",
        "X['society'] = X['society'].apply(lambda x: int(x))\n",
        "X['location'] = X['location'].apply(lambda x: int(x))"
      ],
      "execution_count": 0,
      "outputs": []
    },
    {
      "metadata": {
        "id": "iPkm1aYg8HKn",
        "colab_type": "code",
        "colab": {
          "autoexec": {
            "startup": false,
            "wait_interval": 0
          }
        }
      },
      "cell_type": "code",
      "source": [
        "from sklearn.cross_validation import train_test_split\n",
        "\n",
        "x_train, x_test, y_train, y_test = train_test_split(X, Y, test_size = 0.2, random_state = 105)"
      ],
      "execution_count": 0,
      "outputs": []
    },
    {
      "metadata": {
        "id": "5JpYtsuV7kfw",
        "colab_type": "code",
        "colab": {
          "autoexec": {
            "startup": false,
            "wait_interval": 0
          }
        }
      },
      "cell_type": "code",
      "source": [
        "regr = LinearRegression()\n",
        "regr_robust = RANSACRegressor()"
      ],
      "execution_count": 0,
      "outputs": []
    },
    {
      "metadata": {
        "id": "1El6IQsC7kbh",
        "colab_type": "code",
        "colab": {
          "autoexec": {
            "startup": false,
            "wait_interval": 0
          },
          "base_uri": "https://localhost:8080/",
          "height": 102
        },
        "outputId": "b1e40e0c-0b66-4596-a00a-7079f0a63518",
        "executionInfo": {
          "status": "ok",
          "timestamp": 1526826469778,
          "user_tz": -330,
          "elapsed": 1069,
          "user": {
            "displayName": "Dwaipayan Kundu",
            "photoUrl": "https://lh3.googleusercontent.com/a/default-user=s128",
            "userId": "102686349398832372219"
          }
        }
      },
      "cell_type": "code",
      "source": [
        "regr.fit(x_train, y_train)\n",
        "regr_robust.fit(x_train, y_train)"
      ],
      "execution_count": 123,
      "outputs": [
        {
          "output_type": "execute_result",
          "data": {
            "text/plain": [
              "RANSACRegressor(base_estimator=None, is_data_valid=None, is_model_valid=None,\n",
              "        loss='absolute_loss', max_skips=inf, max_trials=100,\n",
              "        min_samples=None, random_state=None, residual_metric=None,\n",
              "        residual_threshold=None, stop_n_inliers=inf, stop_probability=0.99,\n",
              "        stop_score=inf)"
            ]
          },
          "metadata": {
            "tags": []
          },
          "execution_count": 123
        }
      ]
    },
    {
      "metadata": {
        "id": "--3tE_RC7kXi",
        "colab_type": "code",
        "colab": {
          "autoexec": {
            "startup": false,
            "wait_interval": 0
          }
        }
      },
      "cell_type": "code",
      "source": [
        "predictions_regr = regr.predict(x_test)\n",
        "predictions_robust = regr_robust.predict(x_test)"
      ],
      "execution_count": 0,
      "outputs": []
    },
    {
      "metadata": {
        "id": "zyEOro6Y7kTe",
        "colab_type": "code",
        "colab": {
          "autoexec": {
            "startup": false,
            "wait_interval": 0
          },
          "base_uri": "https://localhost:8080/",
          "height": 51
        },
        "outputId": "c8e575cd-66d0-4a47-f559-ec27209f4688",
        "executionInfo": {
          "status": "ok",
          "timestamp": 1526826592839,
          "user_tz": -330,
          "elapsed": 1124,
          "user": {
            "displayName": "Dwaipayan Kundu",
            "photoUrl": "https://lh3.googleusercontent.com/a/default-user=s128",
            "userId": "102686349398832372219"
          }
        }
      },
      "cell_type": "code",
      "source": [
        "print('RMSE for Linear Regression '+ str((mean_squared_error(y_test, predictions_regr))**0.5))\n",
        "print('RMSE for RANSAC Regression '+ str((mean_squared_error(y_test, predictions_robust))**0.5))"
      ],
      "execution_count": 125,
      "outputs": [
        {
          "output_type": "stream",
          "text": [
            "RMSE for Linear Regression 131.06485545826482\n",
            "RMSE for RANSAC Regression 196.44387434805094\n"
          ],
          "name": "stdout"
        }
      ]
    },
    {
      "metadata": {
        "id": "ItVOYcOU7kNa",
        "colab_type": "code",
        "colab": {
          "autoexec": {
            "startup": false,
            "wait_interval": 0
          },
          "base_uri": "https://localhost:8080/",
          "height": 381
        },
        "outputId": "cdd45371-68d2-4753-8ff9-6b2ee2ca8006",
        "executionInfo": {
          "status": "ok",
          "timestamp": 1526826626994,
          "user_tz": -330,
          "elapsed": 2001,
          "user": {
            "displayName": "Dwaipayan Kundu",
            "photoUrl": "https://lh3.googleusercontent.com/a/default-user=s128",
            "userId": "102686349398832372219"
          }
        }
      },
      "cell_type": "code",
      "source": [
        "sns.regplot(y_test, predictions_regr)"
      ],
      "execution_count": 126,
      "outputs": [
        {
          "output_type": "execute_result",
          "data": {
            "text/plain": [
              "<matplotlib.axes._subplots.AxesSubplot at 0x7febd5b5cfd0>"
            ]
          },
          "metadata": {
            "tags": []
          },
          "execution_count": 126
        },
        {
          "output_type": "display_data",
          "data": {
            "image/png": "[encoded data removed]",
            "text/plain": [
              "<matplotlib.figure.Figure at 0x7febd76a9f28>"
            ]
          },
          "metadata": {
            "tags": []
          }
        }
      ]
    },
    {
      "metadata": {
        "id": "x_G7Lb5w7kJf",
        "colab_type": "code",
        "colab": {
          "autoexec": {
            "startup": false,
            "wait_interval": 0
          },
          "base_uri": "https://localhost:8080/",
          "height": 378
        },
        "outputId": "db844fa5-9e4f-4bbc-e517-671315e1c94c",
        "executionInfo": {
          "status": "ok",
          "timestamp": 1526826638768,
          "user_tz": -330,
          "elapsed": 1557,
          "user": {
            "displayName": "Dwaipayan Kundu",
            "photoUrl": "https://lh3.googleusercontent.com/a/default-user=s128",
            "userId": "102686349398832372219"
          }
        }
      },
      "cell_type": "code",
      "source": [
        "sns.regplot(y_test, predictions_robust)"
      ],
      "execution_count": 127,
      "outputs": [
        {
          "output_type": "execute_result",
          "data": {
            "text/plain": [
              "<matplotlib.axes._subplots.AxesSubplot at 0x7febd79f4e48>"
            ]
          },
          "metadata": {
            "tags": []
          },
          "execution_count": 127
        },
        {
          "output_type": "display_data",
          "data": {
            "image/png": "[encoded data removed]",
            "text/plain": [
              "<matplotlib.figure.Figure at 0x7febd79aeda0>"
            ]
          },
          "metadata": {
            "tags": []
          }
        }
      ]
    },
    {
      "metadata": {
        "id": "gQ6xM91r7kEh",
        "colab_type": "code",
        "colab": {
          "autoexec": {
            "startup": false,
            "wait_interval": 0
          },
          "base_uri": "https://localhost:8080/",
          "height": 51
        },
        "outputId": "3edb81be-cb36-4a9a-cde7-3bddf0b2a0df",
        "executionInfo": {
          "status": "ok",
          "timestamp": 1526826684217,
          "user_tz": -330,
          "elapsed": 1131,
          "user": {
            "displayName": "Dwaipayan Kundu",
            "photoUrl": "https://lh3.googleusercontent.com/a/default-user=s128",
            "userId": "102686349398832372219"
          }
        }
      },
      "cell_type": "code",
      "source": [
        "r2 = r2_score(predictions_regr, y_test)\n",
        "\n",
        "adj_r2 = 1 - ((1 - r2) * ((x_train.shape[0] - 1) / (x_train.shape[0] - x_train.shape[1] - 1)))\n",
        "\n",
        "print(r2)\n",
        "print(adj_r2)"
      ],
      "execution_count": 129,
      "outputs": [
        {
          "output_type": "stream",
          "text": [
            "-2.0881120414412053\n",
            "-2.0926631989005897\n"
          ],
          "name": "stdout"
        }
      ]
    },
    {
      "metadata": {
        "id": "nvMkwCL7pGmV",
        "colab_type": "text"
      },
      "cell_type": "markdown",
      "source": [
        "# Training a RandomForest and CrossValidation"
      ]
    },
    {
      "metadata": {
        "id": "yisLPXi_qUB_",
        "colab_type": "code",
        "colab": {
          "autoexec": {
            "startup": false,
            "wait_interval": 0
          }
        }
      },
      "cell_type": "code",
      "source": [
        "Y = DF['price']\n",
        "\n",
        "X = DF.drop(['price', 'latlong'], axis = 1)"
      ],
      "execution_count": 0,
      "outputs": []
    },
    {
      "metadata": {
        "id": "3zO2AVStqUCV",
        "colab_type": "code",
        "colab": {
          "autoexec": {
            "startup": false,
            "wait_interval": 0
          }
        }
      },
      "cell_type": "code",
      "source": [
        "X['area_type'] = X['area_type'].apply(lambda x: int(x))\n",
        "X['availability'] = X['availability'].apply(lambda x: int(x))\n",
        "X['size'] = X['size'].apply(lambda x: int(x))\n",
        "X['society'] = X['society'].apply(lambda x: int(x))\n",
        "X['location'] = X['location'].apply(lambda x: int(x))"
      ],
      "execution_count": 0,
      "outputs": []
    },
    {
      "metadata": {
        "id": "whWdWdXlpN2P",
        "colab_type": "code",
        "colab": {
          "autoexec": {
            "startup": false,
            "wait_interval": 0
          }
        }
      },
      "cell_type": "code",
      "source": [
        "from sklearn.ensemble import RandomForestRegressor\n",
        "\n",
        "from sklearn.metrics import mean_squared_error, r2_score, explained_variance_score"
      ],
      "execution_count": 0,
      "outputs": []
    },
    {
      "metadata": {
        "id": "uTj5eMVUppgo",
        "colab_type": "code",
        "colab": {
          "autoexec": {
            "startup": false,
            "wait_interval": 0
          }
        }
      },
      "cell_type": "code",
      "source": [
        "from sklearn.cross_validation import train_test_split\n",
        "\n",
        "x_train, x_test, y_train, y_test = train_test_split(X, Y, test_size = 0.2, random_state = 105)"
      ],
      "execution_count": 0,
      "outputs": []
    },
    {
      "metadata": {
        "id": "SE_bqNwD-hTz",
        "colab_type": "code",
        "colab": {
          "autoexec": {
            "startup": false,
            "wait_interval": 0
          },
          "base_uri": "https://localhost:8080/",
          "height": 34
        },
        "outputId": "df8e8fac-65ff-4322-ad15-d6dbb3d99973",
        "executionInfo": {
          "status": "ok",
          "timestamp": 1526826049532,
          "user_tz": -330,
          "elapsed": 1088,
          "user": {
            "displayName": "Dwaipayan Kundu",
            "photoUrl": "https://lh3.googleusercontent.com/a/default-user=s128",
            "userId": "102686349398832372219"
          }
        }
      },
      "cell_type": "code",
      "source": [
        "x_train.shape"
      ],
      "execution_count": 109,
      "outputs": [
        {
          "output_type": "execute_result",
          "data": {
            "text/plain": [
              "(10194, 15)"
            ]
          },
          "metadata": {
            "tags": []
          },
          "execution_count": 109
        }
      ]
    },
    {
      "metadata": {
        "id": "vMDdozeHppaH",
        "colab_type": "code",
        "colab": {
          "autoexec": {
            "startup": false,
            "wait_interval": 0
          }
        }
      },
      "cell_type": "code",
      "source": [
        "regr = RandomForestRegressor(n_estimators = 80, \n",
        "                             max_depth=15,\n",
        "                             max_features = 0.5,\n",
        "                             random_state= 0, \n",
        "                             oob_score = True)"
      ],
      "execution_count": 0,
      "outputs": []
    },
    {
      "metadata": {
        "id": "yvj3YjcxppU6",
        "colab_type": "code",
        "colab": {
          "autoexec": {
            "startup": false,
            "wait_interval": 0
          },
          "base_uri": "https://localhost:8080/",
          "height": 119
        },
        "outputId": "d11bdedd-ed55-4ef2-8542-7f47cf821a1f",
        "executionInfo": {
          "status": "ok",
          "timestamp": 1526826055322,
          "user_tz": -330,
          "elapsed": 3429,
          "user": {
            "displayName": "Dwaipayan Kundu",
            "photoUrl": "https://lh3.googleusercontent.com/a/default-user=s128",
            "userId": "102686349398832372219"
          }
        }
      },
      "cell_type": "code",
      "source": [
        "regr.fit(x_train, y_train)"
      ],
      "execution_count": 110,
      "outputs": [
        {
          "output_type": "execute_result",
          "data": {
            "text/plain": [
              "RandomForestRegressor(bootstrap=True, criterion='mse', max_depth=15,\n",
              "           max_features=0.5, max_leaf_nodes=None,\n",
              "           min_impurity_decrease=0.0, min_impurity_split=None,\n",
              "           min_samples_leaf=1, min_samples_split=2,\n",
              "           min_weight_fraction_leaf=0.0, n_estimators=80, n_jobs=1,\n",
              "           oob_score=True, random_state=0, verbose=0, warm_start=False)"
            ]
          },
          "metadata": {
            "tags": []
          },
          "execution_count": 110
        }
      ]
    },
    {
      "metadata": {
        "id": "CzfM9JjU6-vZ",
        "colab_type": "code",
        "colab": {
          "autoexec": {
            "startup": false,
            "wait_interval": 0
          },
          "base_uri": "https://localhost:8080/",
          "height": 34
        },
        "outputId": "0dea5e21-2b62-4e1b-b64d-c57596477a89",
        "executionInfo": {
          "status": "ok",
          "timestamp": 1526826059012,
          "user_tz": -330,
          "elapsed": 973,
          "user": {
            "displayName": "Dwaipayan Kundu",
            "photoUrl": "https://lh3.googleusercontent.com/a/default-user=s128",
            "userId": "102686349398832372219"
          }
        }
      },
      "cell_type": "code",
      "source": [
        "print(1 - regr.oob_score_)"
      ],
      "execution_count": 111,
      "outputs": [
        {
          "output_type": "stream",
          "text": [
            "0.338421253681483\n"
          ],
          "name": "stdout"
        }
      ]
    },
    {
      "metadata": {
        "id": "FJAjW52gppPB",
        "colab_type": "code",
        "colab": {
          "autoexec": {
            "startup": false,
            "wait_interval": 0
          }
        }
      },
      "cell_type": "code",
      "source": [
        "predictions = regr.predict(x_test)"
      ],
      "execution_count": 0,
      "outputs": []
    },
    {
      "metadata": {
        "id": "WgiUwdOTpo63",
        "colab_type": "code",
        "colab": {
          "autoexec": {
            "startup": false,
            "wait_interval": 0
          },
          "base_uri": "https://localhost:8080/",
          "height": 34
        },
        "outputId": "d31376ef-f57c-4890-e16a-5bbebb649cd2",
        "executionInfo": {
          "status": "ok",
          "timestamp": 1526826065520,
          "user_tz": -330,
          "elapsed": 948,
          "user": {
            "displayName": "Dwaipayan Kundu",
            "photoUrl": "https://lh3.googleusercontent.com/a/default-user=s128",
            "userId": "102686349398832372219"
          }
        }
      },
      "cell_type": "code",
      "source": [
        "(mean_squared_error(y_test, predictions))**0.5"
      ],
      "execution_count": 113,
      "outputs": [
        {
          "output_type": "execute_result",
          "data": {
            "text/plain": [
              "73.4672406290136"
            ]
          },
          "metadata": {
            "tags": []
          },
          "execution_count": 113
        }
      ]
    },
    {
      "metadata": {
        "id": "Hjudjf3rcp62",
        "colab_type": "code",
        "colab": {
          "autoexec": {
            "startup": false,
            "wait_interval": 0
          },
          "base_uri": "https://localhost:8080/",
          "height": 51
        },
        "outputId": "57c680df-adb5-40e8-91d8-58db6ebcdee8",
        "executionInfo": {
          "status": "ok",
          "timestamp": 1526826073343,
          "user_tz": -330,
          "elapsed": 1225,
          "user": {
            "displayName": "Dwaipayan Kundu",
            "photoUrl": "https://lh3.googleusercontent.com/a/default-user=s128",
            "userId": "102686349398832372219"
          }
        }
      },
      "cell_type": "code",
      "source": [
        "r2 = r2_score(predictions, y_test)\n",
        "\n",
        "adj_r2 = 1 - ((1 - r2) * ((x_train.shape[0] - 1) / (x_train.shape[0] - x_train.shape[1] - 1)))\n",
        "\n",
        "print(r2)\n",
        "print(adj_r2)"
      ],
      "execution_count": 114,
      "outputs": [
        {
          "output_type": "stream",
          "text": [
            "0.6429983289842224\n",
            "0.6424721917209844\n"
          ],
          "name": "stdout"
        }
      ]
    },
    {
      "metadata": {
        "id": "-KKsj-nnpoy1",
        "colab_type": "code",
        "colab": {
          "autoexec": {
            "startup": false,
            "wait_interval": 0
          },
          "base_uri": "https://localhost:8080/",
          "height": 378
        },
        "outputId": "80ff70b4-4c9f-41c4-e66e-5b5b6f2dd6e2",
        "executionInfo": {
          "status": "ok",
          "timestamp": 1526826085444,
          "user_tz": -330,
          "elapsed": 1749,
          "user": {
            "displayName": "Dwaipayan Kundu",
            "photoUrl": "https://lh3.googleusercontent.com/a/default-user=s128",
            "userId": "102686349398832372219"
          }
        }
      },
      "cell_type": "code",
      "source": [
        "sns.regplot(y_test, predictions)"
      ],
      "execution_count": 115,
      "outputs": [
        {
          "output_type": "execute_result",
          "data": {
            "text/plain": [
              "<matplotlib.axes._subplots.AxesSubplot at 0x7febda04dbe0>"
            ]
          },
          "metadata": {
            "tags": []
          },
          "execution_count": 115
        },
        {
          "output_type": "display_data",
          "data": {
            "image/png": "[encoded data removed]",
            "text/plain": [
              "<matplotlib.figure.Figure at 0x7febda3d41d0>"
            ]
          },
          "metadata": {
            "tags": []
          }
        }
      ]
    },
    {
      "metadata": {
        "id": "00_GfOM0CFKZ",
        "colab_type": "code",
        "colab": {
          "autoexec": {
            "startup": false,
            "wait_interval": 0
          },
          "base_uri": "https://localhost:8080/",
          "height": 376
        },
        "outputId": "5344fede-f23e-46f0-86c1-727f3001daf5",
        "executionInfo": {
          "status": "ok",
          "timestamp": 1526728819818,
          "user_tz": -330,
          "elapsed": 1834,
          "user": {
            "displayName": "Dwaipayan Kundu",
            "photoUrl": "https://lh3.googleusercontent.com/a/default-user=s128",
            "userId": "102686349398832372219"
          }
        }
      },
      "cell_type": "code",
      "source": [
        "importances = regr.feature_importances_\n",
        "sorted_idx = np.argsort(importances)\n",
        "features = DF.drop(['latlong', 'price'], axis = 1).columns\n",
        "features = np.array(features)\n",
        "\n",
        "padding = np.arange(len(features)) + 0.5\n",
        "plt.barh(padding, importances[sorted_idx], align='center')\n",
        "plt.yticks(padding, features[sorted_idx])\n",
        "plt.xlabel(\"Relative Importance\")\n",
        "plt.title(\"Variable Importance\")\n",
        "fig = plt.gcf()\n",
        "fig.set_size_inches(8.5, 5.5)\n",
        "plt.show()"
      ],
      "execution_count": 332,
      "outputs": [
        {
          "output_type": "display_data",
          "data": {
            "image/png": "[encoded data removed]",
            "text/plain": [
              "<matplotlib.figure.Figure at 0x7fb842b14080>"
            ]
          },
          "metadata": {
            "tags": []
          }
        }
      ]
    },
    {
      "metadata": {
        "id": "LasmWflKtCGO",
        "colab_type": "text"
      },
      "cell_type": "markdown",
      "source": [
        "# Training a XGBoost and Cross Validation"
      ]
    },
    {
      "metadata": {
        "id": "1nAG28xUpon2",
        "colab_type": "code",
        "colab": {
          "autoexec": {
            "startup": false,
            "wait_interval": 0
          }
        }
      },
      "cell_type": "code",
      "source": [
        "import xgboost as xgb"
      ],
      "execution_count": 0,
      "outputs": []
    },
    {
      "metadata": {
        "id": "CCzjdPhz-DYm",
        "colab_type": "code",
        "colab": {
          "autoexec": {
            "startup": false,
            "wait_interval": 0
          }
        }
      },
      "cell_type": "code",
      "source": [
        "x_train.columns = range(len(x_train.columns))\n",
        "x_test.columns = range(len(x_test.columns))"
      ],
      "execution_count": 0,
      "outputs": []
    },
    {
      "metadata": {
        "id": "0W1-OV5_pob7",
        "colab_type": "code",
        "colab": {
          "autoexec": {
            "startup": false,
            "wait_interval": 0
          }
        }
      },
      "cell_type": "code",
      "source": [
        "xgdmat=xgb.DMatrix(x_train,y_train)\n",
        "\n",
        "our_params={'eta':0.1,'seed':0,'subsample':0.8,'colsample_bytree':0.8,'objective':'reg:linear','max_depth':3,'min_child_weight':1}\n",
        "\n",
        "final_gb=xgb.train(our_params,xgdmat)\n",
        "\n",
        "tesdmat=xgb.DMatrix(x_test)\n",
        "\n",
        "y_pred=final_gb.predict(tesdmat)"
      ],
      "execution_count": 0,
      "outputs": []
    },
    {
      "metadata": {
        "id": "oYft0GkAsZps",
        "colab_type": "code",
        "colab": {
          "autoexec": {
            "startup": false,
            "wait_interval": 0
          },
          "base_uri": "https://localhost:8080/",
          "height": 34
        },
        "outputId": "d74fdd40-aa3c-488b-bb70-4afd44e370f5",
        "executionInfo": {
          "status": "ok",
          "timestamp": 1526826884378,
          "user_tz": -330,
          "elapsed": 1275,
          "user": {
            "displayName": "Dwaipayan Kundu",
            "photoUrl": "https://lh3.googleusercontent.com/a/default-user=s128",
            "userId": "102686349398832372219"
          }
        }
      },
      "cell_type": "code",
      "source": [
        "print(mean_squared_error(y_pred, y_test)**0.5)"
      ],
      "execution_count": 137,
      "outputs": [
        {
          "output_type": "stream",
          "text": [
            "115.70078997421537\n"
          ],
          "name": "stdout"
        }
      ]
    },
    {
      "metadata": {
        "id": "vZnu_erksZz-",
        "colab_type": "code",
        "colab": {
          "autoexec": {
            "startup": false,
            "wait_interval": 0
          },
          "base_uri": "https://localhost:8080/",
          "height": 378
        },
        "outputId": "1afd54a4-6ad2-47e5-c38c-b9100ed85ba8",
        "executionInfo": {
          "status": "ok",
          "timestamp": 1526826889296,
          "user_tz": -330,
          "elapsed": 1580,
          "user": {
            "displayName": "Dwaipayan Kundu",
            "photoUrl": "https://lh3.googleusercontent.com/a/default-user=s128",
            "userId": "102686349398832372219"
          }
        }
      },
      "cell_type": "code",
      "source": [
        "sns.regplot(y_test, y_pred)"
      ],
      "execution_count": 138,
      "outputs": [
        {
          "output_type": "execute_result",
          "data": {
            "text/plain": [
              "<matplotlib.axes._subplots.AxesSubplot at 0x7febd7731a58>"
            ]
          },
          "metadata": {
            "tags": []
          },
          "execution_count": 138
        },
        {
          "output_type": "display_data",
          "data": {
            "image/png": "[encoded data removed]",
            "text/plain": [
              "<matplotlib.figure.Figure at 0x7febd76a6898>"
            ]
          },
          "metadata": {
            "tags": []
          }
        }
      ]
    }
  ]
}